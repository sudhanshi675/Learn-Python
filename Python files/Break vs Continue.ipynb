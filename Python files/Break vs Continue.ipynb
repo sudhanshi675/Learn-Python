{
 "cells": [
  {
   "cell_type": "markdown",
   "id": "e4dc265e",
   "metadata": {},
   "source": [
    "# Break vs Continue\n",
    "<font color = red>*By Sudhanshi*<font/>"
   ]
  },
  {
   "cell_type": "code",
   "execution_count": 1,
   "id": "c4c4bd84",
   "metadata": {},
   "outputs": [
    {
     "name": "stdout",
     "output_type": "stream",
     "text": [
      "Sum of first  1 integers is:  5\n",
      "Sum of first  2 integers is:  15\n",
      "Sum of first  3 integers is:  30\n",
      "Sum of first  4 integers is:  50\n",
      "Sum of first  5 integers is:  75\n",
      "Sum of first  6 integers is:  105\n"
     ]
    }
   ],
   "source": [
    "numbers = (5, 10, 15, 20, 25, 30, 35, 40, 45) \n",
    "num_sum = 0\n",
    "count = 0\n",
    "for x in numbers:\n",
    "    num_sum = num_sum + x\n",
    "    count = count + 1 \n",
    "    if count == 7:\n",
    "        break\n",
    "    print(\"Sum of first \",count,\"integers is: \", num_sum)"
   ]
  },
  {
   "cell_type": "code",
   "execution_count": 2,
   "id": "711cdeb4",
   "metadata": {},
   "outputs": [
    {
     "name": "stdout",
     "output_type": "stream",
     "text": [
      "Sum of first  4 integers is:  0\n",
      "Sum of first  8 integers is:  4\n",
      "Sum of first  12 integers is:  12\n"
     ]
    }
   ],
   "source": [
    "num_sum=0                       \n",
    "count=0                         \n",
    "while (count<15):                 \n",
    "    num_sum= num_sum+count      \n",
    "    count=count+4            \n",
    "    if count== 16:\n",
    "        break\n",
    "    print(\"Sum of first \",count,\"integers is: \", num_sum)"
   ]
  },
  {
   "cell_type": "code",
   "execution_count": 3,
   "id": "a4011fed",
   "metadata": {},
   "outputs": [
    {
     "name": "stdout",
     "output_type": "stream",
     "text": [
      "0\n",
      "1\n",
      "2\n",
      "Rest of the code\n"
     ]
    }
   ],
   "source": [
    "number=0\n",
    "for number in range(5):    \n",
    "    if number==3:          \n",
    "        break             \n",
    "    print(number)          \n",
    "print('Rest of the code')"
   ]
  },
  {
   "cell_type": "code",
   "execution_count": 4,
   "id": "e027bbb2",
   "metadata": {},
   "outputs": [
    {
     "name": "stdout",
     "output_type": "stream",
     "text": [
      "0\n",
      "1\n",
      "2\n",
      "4\n",
      "Rest of the code\n"
     ]
    }
   ],
   "source": [
    "number=0\n",
    "for number in range(5):\n",
    "    if number==3:\n",
    "        continue\n",
    "    print(number)\n",
    "print('Rest of the code')"
   ]
  },
  {
   "cell_type": "code",
   "execution_count": 5,
   "id": "29af09a9",
   "metadata": {},
   "outputs": [
    {
     "name": "stdout",
     "output_type": "stream",
     "text": [
      "0\n",
      "1\n",
      "2\n",
      "3\n",
      "4\n",
      "Rest of the code\n"
     ]
    }
   ],
   "source": [
    "number=0                   \n",
    "for number in range(5):     \n",
    "    if number==3:           \n",
    "        pass\n",
    "    print(number)\n",
    "print('Rest of the code')"
   ]
  },
  {
   "cell_type": "code",
   "execution_count": 6,
   "id": "f5f7375c",
   "metadata": {},
   "outputs": [
    {
     "name": "stdout",
     "output_type": "stream",
     "text": [
      "Rubber\n",
      "Pencil\n",
      "Scale\n",
      "Sketch\n"
     ]
    }
   ],
   "source": [
    "for ch in (\"Rubber\",\"Pencil\",\"Scale\",\"Sketch\",\"Sharpner\",\"Geometry Box\"):\n",
    "    if ch==\"Sharpner\":\n",
    "        break\n",
    "    print(ch)"
   ]
  },
  {
   "cell_type": "code",
   "execution_count": 7,
   "id": "9923a809",
   "metadata": {},
   "outputs": [
    {
     "name": "stdout",
     "output_type": "stream",
     "text": [
      "Rubber\n",
      "Pencil\n",
      "Scale\n",
      "Sketch\n",
      "Geometry Box\n"
     ]
    }
   ],
   "source": [
    "for ch in (\"Rubber\",\"Pencil\",\"Scale\",\"Sketch\",\"Sharpner\",\"Geometry Box\"):\n",
    "    if ch==\"Sharpner\":\n",
    "        continue\n",
    "    print(ch)"
   ]
  },
  {
   "cell_type": "code",
   "execution_count": 10,
   "id": "863389f2",
   "metadata": {},
   "outputs": [
    {
     "name": "stdout",
     "output_type": "stream",
     "text": [
      "2\n",
      "4\n",
      "6\n",
      "8\n",
      "10\n"
     ]
    }
   ],
   "source": [
    "for i in range(2,12,2):\n",
    "    print(i)"
   ]
  },
  {
   "cell_type": "code",
   "execution_count": 11,
   "id": "9e593713",
   "metadata": {},
   "outputs": [
    {
     "name": "stdout",
     "output_type": "stream",
     "text": [
      "2 4 6 8 10 "
     ]
    }
   ],
   "source": [
    "for i in range(2,12,2):\n",
    "    print(i, end= \" \")"
   ]
  },
  {
   "cell_type": "code",
   "execution_count": 13,
   "id": "b8bae5c1",
   "metadata": {},
   "outputs": [
    {
     "name": "stdout",
     "output_type": "stream",
     "text": [
      "Enter a lucky number:   94\n",
      "Better luck next time, you have selected the largest number\n",
      "Enter a lucky number:   93\n",
      "Better luck next time, you have selected the largest number\n",
      "Enter a lucky number:   86\n",
      "Sorry!! Try it Once Again, you have selected the smaller number \n",
      "Enter a lucky number:   89\n",
      "Sorry!! Try it Once Again, you have selected the smaller number \n",
      "Enter a lucky number:   92\n",
      "Hurray!!You got 2 Days and 3 Nights Malaysia Tour Package \n"
     ]
    }
   ],
   "source": [
    "while (True):\n",
    "    x = int(input(\"Enter a lucky number:   \"))\n",
    "    if x== 92:\n",
    "            print(\"Hurray!!You got 2 Days and 3 Nights Malaysia Tour Package \")\n",
    "            break\n",
    "    if x<92:\n",
    "        print(\"Sorry!! Try it Once Again, you have selected the smaller number \")\n",
    "        continue\n",
    "    if x>92:\n",
    "            print(\"Better luck next time, you have selected the largest number\")\n",
    "            continue\n"
   ]
  },
  {
   "cell_type": "code",
   "execution_count": 15,
   "id": "e710c9a6",
   "metadata": {},
   "outputs": [
    {
     "name": "stdout",
     "output_type": "stream",
     "text": [
      "Enter a lucky number:   87\n",
      "Time Out!!!\n",
      "Enter a lucky number:   89\n",
      "Time Out!!!\n",
      "Enter a lucky number:   92\n",
      "Congratulation!! You have a 35% discount on BigBazaar \n"
     ]
    }
   ],
   "source": [
    "while (True):\n",
    "    x = int(input(\"Enter a lucky number:   \"))\n",
    "    if x== 92:\n",
    "        print(\"Congratulation!! You have a 35% discount on BigBazaar \")\n",
    "        break\n",
    "    else:\n",
    "        print(\"Time Out!!!\")\n",
    "        continue"
   ]
  },
  {
   "cell_type": "code",
   "execution_count": null,
   "id": "e82ee4ec",
   "metadata": {},
   "outputs": [],
   "source": []
  }
 ],
 "metadata": {
  "kernelspec": {
   "display_name": "Python 3",
   "language": "python",
   "name": "python3"
  },
  "language_info": {
   "codemirror_mode": {
    "name": "ipython",
    "version": 3
   },
   "file_extension": ".py",
   "mimetype": "text/x-python",
   "name": "python",
   "nbconvert_exporter": "python",
   "pygments_lexer": "ipython3",
   "version": "3.8.8"
  }
 },
 "nbformat": 4,
 "nbformat_minor": 5
}
