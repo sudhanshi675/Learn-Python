{
 "cells": [
  {
   "cell_type": "code",
   "execution_count": 20,
   "id": "b6e64efb",
   "metadata": {},
   "outputs": [
    {
     "name": "stdout",
     "output_type": "stream",
     "text": [
      "Sum of first  1 integers is:  5\n",
      "Sum of first  2 integers is:  15\n",
      "Sum of first  3 integers is:  30\n",
      "Sum of first  4 integers is:  50\n",
      "Sum of first  5 integers is:  75\n",
      "Sum of first  6 integers is:  105\n"
     ]
    }
   ],
   "source": [
    "numbers = (5, 10, 15, 20, 25, 30, 35, 40, 45) \n",
    "num_sum = 0\n",
    "count = 0\n",
    "for x in numbers:\n",
    "    num_sum = num_sum + x\n",
    "    count = count + 1 \n",
    "    if count == 7:\n",
    "        break\n",
    "    print(\"Sum of first \",count,\"integers is: \", num_sum)"
   ]
  },
  {
   "cell_type": "code",
   "execution_count": 14,
   "id": "d44cd8b6",
   "metadata": {},
   "outputs": [
    {
     "name": "stdout",
     "output_type": "stream",
     "text": [
      "Sum of first  4 integers is:  0\n",
      "Sum of first  8 integers is:  4\n",
      "Sum of first  12 integers is:  12\n"
     ]
    }
   ],
   "source": [
    "num_sum=0                       \n",
    "count=0                         \n",
    "while (count<15):                 \n",
    "    num_sum= num_sum+count      \n",
    "    count=count+4            \n",
    "    if count== 16:\n",
    "        break\n",
    "    print(\"Sum of first \",count,\"integers is: \", num_sum)"
   ]
  },
  {
   "cell_type": "code",
   "execution_count": 34,
   "id": "003bf303",
   "metadata": {},
   "outputs": [
    {
     "name": "stdout",
     "output_type": "stream",
     "text": [
      "0\n",
      "1\n",
      "2\n",
      "Rest of the code\n"
     ]
    }
   ],
   "source": [
    "number=0\n",
    "for number in range(5):    \n",
    "    if number==3:          \n",
    "        break             \n",
    "    print(number)          \n",
    "print('Rest of the code')"
   ]
  },
  {
   "cell_type": "code",
   "execution_count": 20,
   "id": "3120bc09",
   "metadata": {},
   "outputs": [
    {
     "name": "stdout",
     "output_type": "stream",
     "text": [
      "0\n",
      "1\n",
      "2\n",
      "4\n",
      "Rest of the code   "
     ]
    }
   ],
   "source": [
    "number=0\n",
    "for number in range(5):\n",
    "    if number==3:\n",
    "        continue\n",
    "    print(number)\n",
    "print('Rest of the code')"
   ]
  },
  {
   "cell_type": "code",
   "execution_count": 36,
   "id": "d6139181",
   "metadata": {},
   "outputs": [
    {
     "name": "stdout",
     "output_type": "stream",
     "text": [
      "0\n",
      "1\n",
      "2\n",
      "3\n",
      "4\n",
      "Rest of the code\n"
     ]
    }
   ],
   "source": [
    "number=0                   \n",
    "for number in range(5):     \n",
    "    if number==3:           \n",
    "        pass\n",
    "    print(number)\n",
    "print('Rest of the code')"
   ]
  },
  {
   "cell_type": "code",
   "execution_count": 1,
   "id": "c9e44177",
   "metadata": {},
   "outputs": [
    {
     "name": "stdout",
     "output_type": "stream",
     "text": [
      "Rubber\n",
      "Pencil\n",
      "Scale\n",
      "Sketch\n"
     ]
    }
   ],
   "source": [
    "for ch in (\"Rubber\",\"Pencil\",\"Scale\",\"Sketch\",\"Sharpner\",\"Geometry Box\"):\n",
    "    if ch==\"Sharpner\":\n",
    "        break\n",
    "    print(ch)"
   ]
  },
  {
   "cell_type": "code",
   "execution_count": 2,
   "id": "47833579",
   "metadata": {},
   "outputs": [
    {
     "name": "stdout",
     "output_type": "stream",
     "text": [
      "Rubber\n",
      "Pencil\n",
      "Scale\n",
      "Sketch\n",
      "Geometry Box\n"
     ]
    }
   ],
   "source": [
    "for ch in (\"Rubber\",\"Pencil\",\"Scale\",\"Sketch\",\"Sharpner\",\"Geometry Box\"):\n",
    "    if ch==\"Sharpner\":\n",
    "        continue\n",
    "    print(ch)"
   ]
  },
  {
   "cell_type": "code",
   "execution_count": 17,
   "id": "a106b4c6",
   "metadata": {},
   "outputs": [
    {
     "name": "stdout",
     "output_type": "stream",
     "text": [
      "1 2 3 4 5 6 7 8 9 10 11 12 13 14 "
     ]
    }
   ],
   "source": [
    "i=1\n",
    "while (i<15):\n",
    "    print(i,end= \" \")\n",
    "    i+=1"
   ]
  },
  {
   "cell_type": "code",
   "execution_count": 18,
   "id": "cfc588c4",
   "metadata": {},
   "outputs": [
    {
     "name": "stdout",
     "output_type": "stream",
     "text": [
      "1\n",
      "2\n",
      "3\n",
      "4\n",
      "5\n",
      "6\n",
      "7\n",
      "8\n",
      "9\n",
      "10\n",
      "11\n",
      "12\n",
      "13\n",
      "14\n"
     ]
    }
   ],
   "source": [
    "i=1\n",
    "while (i<15):\n",
    "    print(i)\n",
    "    i+=1"
   ]
  },
  {
   "cell_type": "code",
   "execution_count": 20,
   "id": "5e28e167",
   "metadata": {},
   "outputs": [
    {
     "name": "stdout",
     "output_type": "stream",
     "text": [
      "2\n",
      "4\n",
      "6\n",
      "8\n",
      "10\n"
     ]
    }
   ],
   "source": [
    "for i in range(2,12,2):\n",
    "    print(i)"
   ]
  },
  {
   "cell_type": "code",
   "execution_count": 21,
   "id": "01424ac0",
   "metadata": {},
   "outputs": [
    {
     "name": "stdout",
     "output_type": "stream",
     "text": [
      "2 4 6 8 10 "
     ]
    }
   ],
   "source": [
    "for i in range(2,12,2):\n",
    "    print(i, end= \" \")"
   ]
  },
  {
   "cell_type": "code",
   "execution_count": 89,
   "id": "2e3bec82",
   "metadata": {},
   "outputs": [
    {
     "name": "stdout",
     "output_type": "stream",
     "text": [
      "Enter a lucky number:   100\n",
      "Better luck next time, you have selected large number\n",
      "Enter a lucky number:   90\n",
      "Sorry!! Try it Once Again, you have selected small number \n",
      "Enter a lucky number:   95\n",
      "Better luck next time, you have selected large number\n",
      "Enter a lucky number:   91\n",
      "Sorry!! Try it Once Again, you have selected small number \n",
      "Enter a lucky number:   94\n",
      "Better luck next time, you have selected large number\n",
      "Enter a lucky number:   93\n",
      "Better luck next time, you have selected large number\n",
      "Enter a lucky number:   92\n",
      "Hurray!!You got 2 Days and 3 Nights Malaysia Tour Package \n"
     ]
    }
   ],
   "source": [
    "while (True):\n",
    "    x = int(input(\"Enter a lucky number:   \"))\n",
    "    if x== 92:\n",
    "            print(\"Hurray!!You got 2 Days and 3 Nights Malaysia Tour Package \")\n",
    "            break\n",
    "    if x<92:\n",
    "        print(\"Sorry!! Try it Once Again, you have selected small number \")\n",
    "        continue\n",
    "    if x>92:\n",
    "            print(\"Better luck next time, you have selected large number\")\n",
    "            continue\n"
   ]
  },
  {
   "cell_type": "code",
   "execution_count": 1,
   "id": "3516c18d",
   "metadata": {},
   "outputs": [
    {
     "name": "stdout",
     "output_type": "stream",
     "text": [
      "Enter a number:   64\n",
      "It's not your cup of tea\n",
      "Enter a number:   72\n",
      "I did it\n"
     ]
    },
    {
     "ename": "KeyboardInterrupt",
     "evalue": "Interrupted by user",
     "output_type": "error",
     "traceback": [
      "\u001b[1;31m---------------------------------------------------------------------------\u001b[0m",
      "\u001b[1;31mKeyboardInterrupt\u001b[0m                         Traceback (most recent call last)",
      "\u001b[1;32m<ipython-input-1-9264899f9967>\u001b[0m in \u001b[0;36m<module>\u001b[1;34m\u001b[0m\n\u001b[0;32m      1\u001b[0m \u001b[1;32mwhile\u001b[0m\u001b[1;33m(\u001b[0m\u001b[1;32mTrue\u001b[0m\u001b[1;33m)\u001b[0m\u001b[1;33m:\u001b[0m\u001b[1;33m\u001b[0m\u001b[1;33m\u001b[0m\u001b[0m\n\u001b[1;32m----> 2\u001b[1;33m     \u001b[0mx\u001b[0m\u001b[1;33m=\u001b[0m\u001b[0mint\u001b[0m\u001b[1;33m(\u001b[0m\u001b[0minput\u001b[0m\u001b[1;33m(\u001b[0m\u001b[1;34m\"Enter a number:   \"\u001b[0m\u001b[1;33m)\u001b[0m\u001b[1;33m)\u001b[0m\u001b[1;33m\u001b[0m\u001b[1;33m\u001b[0m\u001b[0m\n\u001b[0m\u001b[0;32m      3\u001b[0m     \u001b[1;32mif\u001b[0m \u001b[0mx\u001b[0m \u001b[1;32min\u001b[0m \u001b[0mrange\u001b[0m\u001b[1;33m(\u001b[0m\u001b[1;36m70\u001b[0m\u001b[1;33m,\u001b[0m\u001b[1;36m80\u001b[0m\u001b[1;33m)\u001b[0m\u001b[1;33m:\u001b[0m\u001b[1;33m\u001b[0m\u001b[1;33m\u001b[0m\u001b[0m\n\u001b[0;32m      4\u001b[0m         \u001b[0mprint\u001b[0m\u001b[1;33m(\u001b[0m\u001b[1;34m\"I did it\"\u001b[0m\u001b[1;33m)\u001b[0m\u001b[1;33m\u001b[0m\u001b[1;33m\u001b[0m\u001b[0m\n\u001b[0;32m      5\u001b[0m     \u001b[1;32melse\u001b[0m\u001b[1;33m:\u001b[0m\u001b[1;33m\u001b[0m\u001b[1;33m\u001b[0m\u001b[0m\n",
      "\u001b[1;32m~\\anaconda3\\lib\\site-packages\\ipykernel\\kernelbase.py\u001b[0m in \u001b[0;36mraw_input\u001b[1;34m(self, prompt)\u001b[0m\n\u001b[0;32m    858\u001b[0m                 \u001b[1;34m\"raw_input was called, but this frontend does not support input requests.\"\u001b[0m\u001b[1;33m\u001b[0m\u001b[1;33m\u001b[0m\u001b[0m\n\u001b[0;32m    859\u001b[0m             )\n\u001b[1;32m--> 860\u001b[1;33m         return self._input_request(str(prompt),\n\u001b[0m\u001b[0;32m    861\u001b[0m             \u001b[0mself\u001b[0m\u001b[1;33m.\u001b[0m\u001b[0m_parent_ident\u001b[0m\u001b[1;33m,\u001b[0m\u001b[1;33m\u001b[0m\u001b[1;33m\u001b[0m\u001b[0m\n\u001b[0;32m    862\u001b[0m             \u001b[0mself\u001b[0m\u001b[1;33m.\u001b[0m\u001b[0m_parent_header\u001b[0m\u001b[1;33m,\u001b[0m\u001b[1;33m\u001b[0m\u001b[1;33m\u001b[0m\u001b[0m\n",
      "\u001b[1;32m~\\anaconda3\\lib\\site-packages\\ipykernel\\kernelbase.py\u001b[0m in \u001b[0;36m_input_request\u001b[1;34m(self, prompt, ident, parent, password)\u001b[0m\n\u001b[0;32m    902\u001b[0m             \u001b[1;32mexcept\u001b[0m \u001b[0mKeyboardInterrupt\u001b[0m\u001b[1;33m:\u001b[0m\u001b[1;33m\u001b[0m\u001b[1;33m\u001b[0m\u001b[0m\n\u001b[0;32m    903\u001b[0m                 \u001b[1;31m# re-raise KeyboardInterrupt, to truncate traceback\u001b[0m\u001b[1;33m\u001b[0m\u001b[1;33m\u001b[0m\u001b[1;33m\u001b[0m\u001b[0m\n\u001b[1;32m--> 904\u001b[1;33m                 \u001b[1;32mraise\u001b[0m \u001b[0mKeyboardInterrupt\u001b[0m\u001b[1;33m(\u001b[0m\u001b[1;34m\"Interrupted by user\"\u001b[0m\u001b[1;33m)\u001b[0m \u001b[1;32mfrom\u001b[0m \u001b[1;32mNone\u001b[0m\u001b[1;33m\u001b[0m\u001b[1;33m\u001b[0m\u001b[0m\n\u001b[0m\u001b[0;32m    905\u001b[0m             \u001b[1;32mexcept\u001b[0m \u001b[0mException\u001b[0m \u001b[1;32mas\u001b[0m \u001b[0me\u001b[0m\u001b[1;33m:\u001b[0m\u001b[1;33m\u001b[0m\u001b[1;33m\u001b[0m\u001b[0m\n\u001b[0;32m    906\u001b[0m                 \u001b[0mself\u001b[0m\u001b[1;33m.\u001b[0m\u001b[0mlog\u001b[0m\u001b[1;33m.\u001b[0m\u001b[0mwarning\u001b[0m\u001b[1;33m(\u001b[0m\u001b[1;34m\"Invalid Message:\"\u001b[0m\u001b[1;33m,\u001b[0m \u001b[0mexc_info\u001b[0m\u001b[1;33m=\u001b[0m\u001b[1;32mTrue\u001b[0m\u001b[1;33m)\u001b[0m\u001b[1;33m\u001b[0m\u001b[1;33m\u001b[0m\u001b[0m\n",
      "\u001b[1;31mKeyboardInterrupt\u001b[0m: Interrupted by user"
     ]
    }
   ],
   "source": [
    "while(True):\n",
    "    x=int(input(\"Enter a number:   \"))\n",
    "    if x in range(70,80):\n",
    "        print(\"I did it\")\n",
    "    else:\n",
    "        print(\"It's not your cup of tea\")\n",
    "        continue"
   ]
  },
  {
   "cell_type": "code",
   "execution_count": 41,
   "id": "935d824c",
   "metadata": {},
   "outputs": [
    {
     "name": "stdout",
     "output_type": "stream",
     "text": [
      "Enter a lucky number:   60\n",
      "Time out!!!\n",
      "Enter a lucky number:   80\n",
      "Time out!!!\n",
      "Enter a lucky number:   82\n",
      "Better luck next time\n"
     ]
    }
   ],
   "source": [
    "while (True):\n",
    "    x = int(input(\"Enter a lucky number:   \"))\n",
    "    if x>80:\n",
    "        print(\"Better luck next time\")\n",
    "        break\n",
    "    else:\n",
    "        print(\"Time out!!!\")\n",
    "        continue\n",
    "    "
   ]
  },
  {
   "cell_type": "code",
   "execution_count": 59,
   "id": "48547325",
   "metadata": {},
   "outputs": [
    {
     "name": "stdout",
     "output_type": "stream",
     "text": [
      "Enter a lucky number:   80\n",
      "Time Out!!!\n",
      "Enter a lucky number:   92\n",
      "Hurray!!You got 2 Days and 3 Nights Malaysia Tour Package \n"
     ]
    }
   ],
   "source": [
    "while (True):\n",
    "    x = int(input(\"Enter a lucky number:   \"))\n",
    "    if x== 92:\n",
    "        print(\"Hurray!!You got 2 Days and 3 Nights Malaysia Tour Package \")\n",
    "        break\n",
    "    else:\n",
    "        print(\"Time Out!!!\")\n",
    "        continue"
   ]
  },
  {
   "cell_type": "code",
   "execution_count": 4,
   "id": "ba74eb6e",
   "metadata": {},
   "outputs": [
    {
     "name": "stdout",
     "output_type": "stream",
     "text": [
      "Enter NUmber    :   \t82\n",
      "hi, you guess large numebr \n",
      "Enter NUmber    :   \t89\n",
      "hi, you guess large numebr \n",
      "Enter NUmber    :   \t81\n",
      "hi, you guess large numebr \n",
      "Enter NUmber    :   \t75\n",
      "hi, you guess small numebr\n",
      "Enter NUmber    :   \t78\n",
      "hi, you guess small numebr\n",
      "Enter NUmber    :   \t80\n",
      "hello, you guess correct number\n"
     ]
    }
   ],
   "source": [
    "while (True):\n",
    "    tt=int(input(\"Enter NUmber    :   \\t\"))\n",
    "    if tt==80:\n",
    "        print (\"hello, you guess correct number\")\n",
    "        break\n",
    "    if  tt>80:\n",
    "        print (\"hi, you guess large number \")\n",
    "        continue\n",
    "    else:\n",
    "        print(\"hi, you guess small number\")\n",
    "        continue\n",
    "\n",
    "\n"
   ]
  },
  {
   "cell_type": "code",
   "execution_count": null,
   "id": "63bf26c8",
   "metadata": {},
   "outputs": [],
   "source": []
  }
 ],
 "metadata": {
  "kernelspec": {
   "display_name": "Python 3",
   "language": "python",
   "name": "python3"
  },
  "language_info": {
   "codemirror_mode": {
    "name": "ipython",
    "version": 3
   },
   "file_extension": ".py",
   "mimetype": "text/x-python",
   "name": "python",
   "nbconvert_exporter": "python",
   "pygments_lexer": "ipython3",
   "version": "3.8.8"
  }
 },
 "nbformat": 4,
 "nbformat_minor": 5
}
