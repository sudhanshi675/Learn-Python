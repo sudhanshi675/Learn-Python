{
 "cells": [
  {
   "cell_type": "markdown",
   "id": "e188ec55",
   "metadata": {},
   "source": [
    "# <font color= red>NumPy In Python<font/>"
   ]
  },
  {
   "cell_type": "markdown",
   "id": "a2d99b53",
   "metadata": {},
   "source": [
    "* NumPy stand for Numerical Python.\n",
    "\n",
    "* It is a library which consist of multidimensional array objects.\n",
    "\n",
    "* We usually create numpy with an alias called np\n",
    "\n",
    "* NumPy is used to work with arrays and that array object in NumPy are called ndarray.\n",
    "\n",
    "* We can create a NumPy ndarray object by using the array() function."
   ]
  },
  {
   "cell_type": "code",
   "execution_count": 1,
   "id": "d041c26a",
   "metadata": {},
   "outputs": [],
   "source": [
    "import numpy as np"
   ]
  },
  {
   "cell_type": "code",
   "execution_count": 2,
   "id": "206ecb3b",
   "metadata": {},
   "outputs": [
    {
     "name": "stdout",
     "output_type": "stream",
     "text": [
      "[1 2 3 4 5 6 7 8]\n"
     ]
    }
   ],
   "source": [
    "arr = np.array([1, 2, 3, 4, 5, 6, 7 , 8])\n",
    "\n",
    "print(arr)"
   ]
  },
  {
   "cell_type": "code",
   "execution_count": 3,
   "id": "f39c612a",
   "metadata": {},
   "outputs": [
    {
     "data": {
      "text/plain": [
       "numpy.ndarray"
      ]
     },
     "execution_count": 3,
     "metadata": {},
     "output_type": "execute_result"
    }
   ],
   "source": [
    "type(arr)"
   ]
  },
  {
   "cell_type": "code",
   "execution_count": 4,
   "id": "c1b5af9b",
   "metadata": {},
   "outputs": [
    {
     "data": {
      "text/plain": [
       "(8,)"
      ]
     },
     "execution_count": 4,
     "metadata": {},
     "output_type": "execute_result"
    }
   ],
   "source": [
    "arr.shape"
   ]
  },
  {
   "cell_type": "code",
   "execution_count": 5,
   "id": "0fa04ad4",
   "metadata": {},
   "outputs": [],
   "source": [
    "#Multinested array\n",
    "\n",
    "list1=[2, 3, 4, 5, 6]\n",
    "list2=[4, 9, 16, 25, 36]\n",
    "list3=[8, 127, 64, 125, 216]"
   ]
  },
  {
   "cell_type": "code",
   "execution_count": 6,
   "id": "68d5c322",
   "metadata": {},
   "outputs": [],
   "source": [
    "arr=np.array([list1,list2,list3])"
   ]
  },
  {
   "cell_type": "code",
   "execution_count": 7,
   "id": "1c94166a",
   "metadata": {},
   "outputs": [
    {
     "data": {
      "text/plain": [
       "array([[  2,   3,   4,   5,   6],\n",
       "       [  4,   9,  16,  25,  36],\n",
       "       [  8, 127,  64, 125, 216]])"
      ]
     },
     "execution_count": 7,
     "metadata": {},
     "output_type": "execute_result"
    }
   ],
   "source": [
    "arr"
   ]
  },
  {
   "cell_type": "code",
   "execution_count": 8,
   "id": "7f0798ba",
   "metadata": {},
   "outputs": [
    {
     "data": {
      "text/plain": [
       "(3, 5)"
      ]
     },
     "execution_count": 8,
     "metadata": {},
     "output_type": "execute_result"
    }
   ],
   "source": [
    "arr.shape"
   ]
  },
  {
   "cell_type": "code",
   "execution_count": 9,
   "id": "46a06577",
   "metadata": {},
   "outputs": [
    {
     "data": {
      "text/plain": [
       "array([[  2,   3,   4],\n",
       "       [  5,   6,   4],\n",
       "       [  9,  16,  25],\n",
       "       [ 36,   8, 127],\n",
       "       [ 64, 125, 216]])"
      ]
     },
     "execution_count": 9,
     "metadata": {},
     "output_type": "execute_result"
    }
   ],
   "source": [
    "arr.reshape(5,3)  #3 rows and 5 columns"
   ]
  },
  {
   "cell_type": "code",
   "execution_count": 10,
   "id": "47d3b4a1",
   "metadata": {},
   "outputs": [
    {
     "name": "stdout",
     "output_type": "stream",
     "text": [
      "1.20.1\n"
     ]
    }
   ],
   "source": [
    "print(np.__version__)"
   ]
  },
  {
   "cell_type": "markdown",
   "id": "dbf5dd24",
   "metadata": {},
   "source": [
    "# <font color= brown>Dimensions in Arrays<font/>"
   ]
  },
  {
   "cell_type": "markdown",
   "id": "fcded18a",
   "metadata": {},
   "source": [
    "1D array has one opening and one closing brackets"
   ]
  },
  {
   "cell_type": "code",
   "execution_count": 11,
   "id": "2428e154",
   "metadata": {},
   "outputs": [
    {
     "name": "stdout",
     "output_type": "stream",
     "text": [
      "[2 3 4 5]\n"
     ]
    }
   ],
   "source": [
    "arr = np.array ([2,3,4,5])\n",
    "print(arr)"
   ]
  },
  {
   "cell_type": "code",
   "execution_count": 12,
   "id": "60cf6b5e",
   "metadata": {},
   "outputs": [
    {
     "data": {
      "text/plain": [
       "4"
      ]
     },
     "execution_count": 12,
     "metadata": {},
     "output_type": "execute_result"
    }
   ],
   "source": [
    "arr[2]"
   ]
  },
  {
   "cell_type": "code",
   "execution_count": 13,
   "id": "134564be",
   "metadata": {},
   "outputs": [
    {
     "name": "stdout",
     "output_type": "stream",
     "text": [
      "[0 1 2 3 4 5]\n"
     ]
    }
   ],
   "source": [
    "a=np.arange(6)\n",
    "print(a)"
   ]
  },
  {
   "cell_type": "markdown",
   "id": "fdd907e9",
   "metadata": {},
   "source": [
    "2D array has two opening and two closing brackets"
   ]
  },
  {
   "cell_type": "code",
   "execution_count": 14,
   "id": "8a767615",
   "metadata": {},
   "outputs": [
    {
     "name": "stdout",
     "output_type": "stream",
     "text": [
      "[[ 2  3  4  5]\n",
      " [ 4  9 16 25]]\n"
     ]
    }
   ],
   "source": [
    "arr = np.array([[2 , 3 , 4 ,5],[4, 9, 16, 25]])\n",
    "print(arr)"
   ]
  },
  {
   "cell_type": "code",
   "execution_count": 15,
   "id": "d8a8df29",
   "metadata": {},
   "outputs": [
    {
     "data": {
      "text/plain": [
       "(2, 4)"
      ]
     },
     "execution_count": 15,
     "metadata": {},
     "output_type": "execute_result"
    }
   ],
   "source": [
    "arr.shape"
   ]
  },
  {
   "cell_type": "code",
   "execution_count": 16,
   "id": "a694d29f",
   "metadata": {},
   "outputs": [
    {
     "data": {
      "text/plain": [
       "array([[ 2,  3],\n",
       "       [ 4,  5],\n",
       "       [ 4,  9],\n",
       "       [16, 25]])"
      ]
     },
     "execution_count": 16,
     "metadata": {},
     "output_type": "execute_result"
    }
   ],
   "source": [
    "arr.reshape(4,2)  #2 rows and 4 columns"
   ]
  },
  {
   "cell_type": "code",
   "execution_count": 17,
   "id": "89272beb",
   "metadata": {},
   "outputs": [
    {
     "data": {
      "text/plain": [
       "array([[ 4,  5],\n",
       "       [16, 25]])"
      ]
     },
     "execution_count": 17,
     "metadata": {},
     "output_type": "execute_result"
    }
   ],
   "source": [
    "arr[0:,2:]"
   ]
  },
  {
   "cell_type": "code",
   "execution_count": 18,
   "id": "1f4c5f72",
   "metadata": {},
   "outputs": [
    {
     "name": "stdout",
     "output_type": "stream",
     "text": [
      "[ 0  1  2  3  4  5  6  7  8  9 10 11]\n"
     ]
    }
   ],
   "source": [
    "a=np.arange(12)\n",
    "\n",
    "print(a)"
   ]
  },
  {
   "cell_type": "code",
   "execution_count": 19,
   "id": "1ea4dfcb",
   "metadata": {},
   "outputs": [
    {
     "data": {
      "text/plain": [
       "array([[ 0,  1,  2,  3],\n",
       "       [ 4,  5,  6,  7],\n",
       "       [ 8,  9, 10, 11]])"
      ]
     },
     "execution_count": 19,
     "metadata": {},
     "output_type": "execute_result"
    }
   ],
   "source": [
    "a.reshape(3,4)"
   ]
  },
  {
   "cell_type": "code",
   "execution_count": 20,
   "id": "2f3d5d2b",
   "metadata": {},
   "outputs": [
    {
     "data": {
      "text/plain": [
       "array([[ 0,  1,  2],\n",
       "       [ 3,  4,  5],\n",
       "       [ 6,  7,  8],\n",
       "       [ 9, 10, 11]])"
      ]
     },
     "execution_count": 20,
     "metadata": {},
     "output_type": "execute_result"
    }
   ],
   "source": [
    "a.reshape(4,3)"
   ]
  },
  {
   "cell_type": "markdown",
   "id": "a48d755b",
   "metadata": {},
   "source": [
    "3D array has three opening and closing brackets"
   ]
  },
  {
   "cell_type": "code",
   "execution_count": 21,
   "id": "47a6916d",
   "metadata": {},
   "outputs": [
    {
     "name": "stdout",
     "output_type": "stream",
     "text": [
      "[[[  2   3   4   5]\n",
      "  [  4   9  16  25]\n",
      "  [  8  27  64 125]]]\n"
     ]
    }
   ],
   "source": [
    "arr = np.array([[[2, 3, 4, 5], [4, 9, 16, 25],[8, 27, 64, 125]]])\n",
    "print(arr)"
   ]
  },
  {
   "cell_type": "code",
   "execution_count": 22,
   "id": "3fd2d3b8",
   "metadata": {},
   "outputs": [
    {
     "data": {
      "text/plain": [
       "(1, 3, 4)"
      ]
     },
     "execution_count": 22,
     "metadata": {},
     "output_type": "execute_result"
    }
   ],
   "source": [
    "arr.shape"
   ]
  },
  {
   "cell_type": "code",
   "execution_count": 23,
   "id": "6929195a",
   "metadata": {},
   "outputs": [
    {
     "data": {
      "text/plain": [
       "array([[  2,   3,   4],\n",
       "       [  5,   4,   9],\n",
       "       [ 16,  25,   8],\n",
       "       [ 27,  64, 125]])"
      ]
     },
     "execution_count": 23,
     "metadata": {},
     "output_type": "execute_result"
    }
   ],
   "source": [
    "arr.reshape(4,3)"
   ]
  },
  {
   "cell_type": "code",
   "execution_count": 24,
   "id": "1f944eca",
   "metadata": {},
   "outputs": [
    {
     "name": "stdout",
     "output_type": "stream",
     "text": [
      "[ 0  1  2  3  4  5  6  7  8  9 10 11 12 13 14 15 16 17 18 19 20 21 22 23]\n"
     ]
    }
   ],
   "source": [
    "x=np.arange(24)\n",
    "\n",
    "print(x)"
   ]
  },
  {
   "cell_type": "code",
   "execution_count": 25,
   "id": "39c0a642",
   "metadata": {},
   "outputs": [
    {
     "data": {
      "text/plain": [
       "(24,)"
      ]
     },
     "execution_count": 25,
     "metadata": {},
     "output_type": "execute_result"
    }
   ],
   "source": [
    "x.shape"
   ]
  },
  {
   "cell_type": "code",
   "execution_count": 26,
   "id": "5d05848f",
   "metadata": {},
   "outputs": [
    {
     "data": {
      "text/plain": [
       "array([[[ 0,  1,  2,  3],\n",
       "        [ 4,  5,  6,  7],\n",
       "        [ 8,  9, 10, 11]],\n",
       "\n",
       "       [[12, 13, 14, 15],\n",
       "        [16, 17, 18, 19],\n",
       "        [20, 21, 22, 23]]])"
      ]
     },
     "execution_count": 26,
     "metadata": {},
     "output_type": "execute_result"
    }
   ],
   "source": [
    "x.reshape(2,3,4)"
   ]
  },
  {
   "cell_type": "markdown",
   "id": "501a222e",
   "metadata": {},
   "source": [
    "#### NumPy Arrays provides the ndim attribute that returns an integer value that tells us how many dimensions does our array have."
   ]
  },
  {
   "cell_type": "code",
   "execution_count": 27,
   "id": "622d1947",
   "metadata": {},
   "outputs": [
    {
     "name": "stdout",
     "output_type": "stream",
     "text": [
      "0\n",
      "1\n",
      "2\n",
      "3\n"
     ]
    }
   ],
   "source": [
    "a = np.array(5)\n",
    "b = np.array ([2,3,4,5])\n",
    "c = np.array([[2 , 3 , 4 ,5],[4, 9, 16, 25]])\n",
    "d = np.array([[[2, 3, 4, 5], [4, 9, 16, 25],[8, 27, 64, 125]]])\n",
    "\n",
    "print(a.ndim)\n",
    "print(b.ndim)\n",
    "print(c.ndim)\n",
    "print(d.ndim)"
   ]
  },
  {
   "cell_type": "markdown",
   "id": "ceca9c49",
   "metadata": {},
   "source": [
    "## <font color = brown>Slicing/Adding/Delete<font/>"
   ]
  },
  {
   "cell_type": "code",
   "execution_count": 28,
   "id": "58c348f6",
   "metadata": {},
   "outputs": [
    {
     "data": {
      "text/plain": [
       "array([0, 1, 2])"
      ]
     },
     "execution_count": 28,
     "metadata": {},
     "output_type": "execute_result"
    }
   ],
   "source": [
    "a = [0]\n",
    "np.append(a, [1,2]) "
   ]
  },
  {
   "cell_type": "code",
   "execution_count": 29,
   "id": "9a95fbbb",
   "metadata": {},
   "outputs": [
    {
     "data": {
      "text/plain": [
       "array([5, 1, 4, 6, 2])"
      ]
     },
     "execution_count": 29,
     "metadata": {},
     "output_type": "execute_result"
    }
   ],
   "source": [
    "x=[5,1,2]\n",
    "np.insert(x,2, [4,6])"
   ]
  },
  {
   "cell_type": "code",
   "execution_count": 30,
   "id": "c7b43fd7",
   "metadata": {},
   "outputs": [
    {
     "data": {
      "text/plain": [
       "array([3, 4, 6, 7, 8, 9])"
      ]
     },
     "execution_count": 30,
     "metadata": {},
     "output_type": "execute_result"
    }
   ],
   "source": [
    "x=[3,4,6,7,8,9,1]\n",
    "np.delete(x,-1)"
   ]
  },
  {
   "cell_type": "code",
   "execution_count": 31,
   "id": "d29e6ca3",
   "metadata": {},
   "outputs": [
    {
     "data": {
      "text/plain": [
       "array([1, 3, 4, 6, 7, 8, 9])"
      ]
     },
     "execution_count": 31,
     "metadata": {},
     "output_type": "execute_result"
    }
   ],
   "source": [
    "np.sort(x)"
   ]
  },
  {
   "cell_type": "code",
   "execution_count": 32,
   "id": "f48742b8",
   "metadata": {},
   "outputs": [
    {
     "name": "stdout",
     "output_type": "stream",
     "text": [
      "[[1 2 3]\n",
      " [3 4 5]\n",
      " [4 5 6]]\n"
     ]
    }
   ],
   "source": [
    "a = np.array([[1,2,3],[3,4,5],[4,5,6]]) \n",
    "\n",
    "print(a)"
   ]
  },
  {
   "cell_type": "code",
   "execution_count": 33,
   "id": "ab8e09e2",
   "metadata": {},
   "outputs": [
    {
     "data": {
      "text/plain": [
       "5"
      ]
     },
     "execution_count": 33,
     "metadata": {},
     "output_type": "execute_result"
    }
   ],
   "source": [
    "a[1,2]"
   ]
  },
  {
   "cell_type": "code",
   "execution_count": 34,
   "id": "e7cc73cd",
   "metadata": {},
   "outputs": [
    {
     "name": "stdout",
     "output_type": "stream",
     "text": [
      "[[1 2 3]\n",
      " [4 5 6]]\n"
     ]
    }
   ],
   "source": [
    "arr = np.array([[[1, 2, 3], [4, 5, 6]], [[7, 8, 9], [10, 11, 12]]])\n",
    "                      \n",
    "print(arr[0])"
   ]
  },
  {
   "cell_type": "code",
   "execution_count": 35,
   "id": "e72d2a36",
   "metadata": {},
   "outputs": [
    {
     "name": "stdout",
     "output_type": "stream",
     "text": [
      "[[[ 1  2  3]\n",
      "  [ 4  5  6]]\n",
      "\n",
      " [[ 7  8  9]\n",
      "  [10 11 12]]]\n"
     ]
    }
   ],
   "source": [
    "arr = np.array([[[1, 2, 3], [4, 5, 6]], [[7, 8, 9], [10, 11, 12]]])\n",
    "                      \n",
    "print(arr)"
   ]
  },
  {
   "cell_type": "code",
   "execution_count": 36,
   "id": "d3247e8f",
   "metadata": {},
   "outputs": [
    {
     "data": {
      "text/plain": [
       "array([[[ 1,  2,  3],\n",
       "        [ 4,  5,  6]],\n",
       "\n",
       "       [[ 7,  8,  9],\n",
       "        [10, 11, 12]]])"
      ]
     },
     "execution_count": 36,
     "metadata": {},
     "output_type": "execute_result"
    }
   ],
   "source": [
    "arr[0:]"
   ]
  },
  {
   "cell_type": "code",
   "execution_count": 37,
   "id": "8608d107",
   "metadata": {},
   "outputs": [
    {
     "data": {
      "text/plain": [
       "array([[[1, 2, 3]],\n",
       "\n",
       "       [[7, 8, 9]]])"
      ]
     },
     "execution_count": 37,
     "metadata": {},
     "output_type": "execute_result"
    }
   ],
   "source": [
    "arr[0:,:1]"
   ]
  },
  {
   "cell_type": "code",
   "execution_count": 38,
   "id": "007ca408",
   "metadata": {},
   "outputs": [
    {
     "data": {
      "text/plain": [
       "array([[2],\n",
       "       [8]])"
      ]
     },
     "execution_count": 38,
     "metadata": {},
     "output_type": "execute_result"
    }
   ],
   "source": [
    "arr[0:,:1,1]"
   ]
  },
  {
   "cell_type": "code",
   "execution_count": 39,
   "id": "4cfef431",
   "metadata": {},
   "outputs": [
    {
     "name": "stdout",
     "output_type": "stream",
     "text": [
      "6\n"
     ]
    }
   ],
   "source": [
    "arr = np.array([[[1, 2, 3], [4, 5, 6]], [[7, 8, 9], [10, 11, 12]]])\n",
    "                      \n",
    "print(arr[0, 1, 2])"
   ]
  },
  {
   "cell_type": "code",
   "execution_count": 40,
   "id": "352d7f03",
   "metadata": {},
   "outputs": [
    {
     "name": "stdout",
     "output_type": "stream",
     "text": [
      "[[1 2 3]\n",
      " [3 4 5]\n",
      " [4 5 6]]\n"
     ]
    }
   ],
   "source": [
    "a = np.array([[1,2,3],[3,4,5],[4,5,6]]) \n",
    "\n",
    "print(a)"
   ]
  },
  {
   "cell_type": "code",
   "execution_count": 41,
   "id": "f59c72a0",
   "metadata": {},
   "outputs": [
    {
     "data": {
      "text/plain": [
       "5"
      ]
     },
     "execution_count": 41,
     "metadata": {},
     "output_type": "execute_result"
    }
   ],
   "source": [
    "a[1,2]"
   ]
  },
  {
   "cell_type": "code",
   "execution_count": 42,
   "id": "2071ecf5",
   "metadata": {},
   "outputs": [],
   "source": [
    "val=5"
   ]
  },
  {
   "cell_type": "code",
   "execution_count": 43,
   "id": "cf72e7fb",
   "metadata": {},
   "outputs": [
    {
     "data": {
      "text/plain": [
       "array([[[ 1,  2,  3],\n",
       "        [ 4,  5,  6]],\n",
       "\n",
       "       [[ 7,  8,  9],\n",
       "        [10, 11, 12]]])"
      ]
     },
     "execution_count": 43,
     "metadata": {},
     "output_type": "execute_result"
    }
   ],
   "source": [
    "arr"
   ]
  },
  {
   "cell_type": "code",
   "execution_count": 44,
   "id": "8288cbd5",
   "metadata": {},
   "outputs": [
    {
     "data": {
      "text/plain": [
       "array([[[0.5, 1. , 1.5],\n",
       "        [2. , 2.5, 3. ]],\n",
       "\n",
       "       [[3.5, 4. , 4.5],\n",
       "        [5. , 5.5, 6. ]]])"
      ]
     },
     "execution_count": 44,
     "metadata": {},
     "output_type": "execute_result"
    }
   ],
   "source": [
    "arr/2"
   ]
  },
  {
   "cell_type": "code",
   "execution_count": 45,
   "id": "195f8f26",
   "metadata": {},
   "outputs": [
    {
     "data": {
      "text/plain": [
       "array([[[ True,  True,  True],\n",
       "        [ True, False, False]],\n",
       "\n",
       "       [[False, False, False],\n",
       "        [False, False, False]]])"
      ]
     },
     "execution_count": 45,
     "metadata": {},
     "output_type": "execute_result"
    }
   ],
   "source": [
    "arr<5"
   ]
  },
  {
   "cell_type": "code",
   "execution_count": 46,
   "id": "7abdff01",
   "metadata": {},
   "outputs": [
    {
     "data": {
      "text/plain": [
       "array([1, 2, 3, 4])"
      ]
     },
     "execution_count": 46,
     "metadata": {},
     "output_type": "execute_result"
    }
   ],
   "source": [
    "arr[arr<5]"
   ]
  },
  {
   "cell_type": "code",
   "execution_count": 47,
   "id": "fb8acd25",
   "metadata": {},
   "outputs": [],
   "source": [
    "arr1 = np.arange(15).reshape(3,5)"
   ]
  },
  {
   "cell_type": "code",
   "execution_count": 48,
   "id": "e4ce1ab8",
   "metadata": {},
   "outputs": [],
   "source": [
    "arr2 = np.arange(15).reshape(3,5)"
   ]
  },
  {
   "cell_type": "code",
   "execution_count": 49,
   "id": "7e19494c",
   "metadata": {},
   "outputs": [
    {
     "data": {
      "text/plain": [
       "array([[  0,   1,   4,   9,  16],\n",
       "       [ 25,  36,  49,  64,  81],\n",
       "       [100, 121, 144, 169, 196]])"
      ]
     },
     "execution_count": 49,
     "metadata": {},
     "output_type": "execute_result"
    }
   ],
   "source": [
    "arr1*arr2"
   ]
  },
  {
   "cell_type": "markdown",
   "id": "41acf736",
   "metadata": {},
   "source": [
    "#### zeros and ones return a new array of a given shape and type, filled with ones."
   ]
  },
  {
   "cell_type": "code",
   "execution_count": 50,
   "id": "850a5830",
   "metadata": {},
   "outputs": [
    {
     "data": {
      "text/plain": [
       "array([[0., 0., 0.],\n",
       "       [0., 0., 0.],\n",
       "       [0., 0., 0.]])"
      ]
     },
     "execution_count": 50,
     "metadata": {},
     "output_type": "execute_result"
    }
   ],
   "source": [
    "np.zeros((3,3))"
   ]
  },
  {
   "cell_type": "code",
   "execution_count": 51,
   "id": "2d3bc096",
   "metadata": {},
   "outputs": [
    {
     "data": {
      "text/plain": [
       "array([[1., 1., 1.],\n",
       "       [1., 1., 1.],\n",
       "       [1., 1., 1.]])"
      ]
     },
     "execution_count": 51,
     "metadata": {},
     "output_type": "execute_result"
    }
   ],
   "source": [
    "#If you want to create an array with 1s:\n",
    "\n",
    "np.ones((3,3))"
   ]
  },
  {
   "cell_type": "code",
   "execution_count": 52,
   "id": "b6ed07eb",
   "metadata": {},
   "outputs": [
    {
     "data": {
      "text/plain": [
       "array([1., 1., 1., 1., 1., 1., 1., 1., 1., 1., 1., 1., 1., 1., 1., 1.])"
      ]
     },
     "execution_count": 52,
     "metadata": {},
     "output_type": "execute_result"
    }
   ],
   "source": [
    "np.ones(16)  #by default data type is float)"
   ]
  },
  {
   "cell_type": "code",
   "execution_count": 53,
   "id": "ee0b5407",
   "metadata": {},
   "outputs": [
    {
     "data": {
      "text/plain": [
       "array([1, 1, 1, 1, 1, 1, 1, 1, 1, 1, 1, 1, 1, 1, 1, 1])"
      ]
     },
     "execution_count": 53,
     "metadata": {},
     "output_type": "execute_result"
    }
   ],
   "source": [
    "# here i am convert float data type to integer\n",
    "np.ones(16,dtype=int)"
   ]
  },
  {
   "cell_type": "markdown",
   "id": "4ead744d",
   "metadata": {},
   "source": [
    "### Random Distribution"
   ]
  },
  {
   "cell_type": "code",
   "execution_count": 54,
   "id": "af4977c5",
   "metadata": {},
   "outputs": [
    {
     "data": {
      "text/plain": [
       "array([[0.90819763, 0.6268552 ],\n",
       "       [0.52046806, 0.98305897],\n",
       "       [0.89572335, 0.18885446],\n",
       "       [0.83418194, 0.2605902 ]])"
      ]
     },
     "execution_count": 54,
     "metadata": {},
     "output_type": "execute_result"
    }
   ],
   "source": [
    "np.random.rand(4,2) #By default numpy takes value between 0 to 1\n",
    "                    # If i execute each and every time the elements get change because it randomly selected"
   ]
  },
  {
   "cell_type": "markdown",
   "id": "0a1570c1",
   "metadata": {},
   "source": [
    " * Randint returns a random number given between the  range "
   ]
  },
  {
   "cell_type": "code",
   "execution_count": 55,
   "id": "f76fc7df",
   "metadata": {},
   "outputs": [
    {
     "data": {
      "text/plain": [
       "array([[39, 15, 13, 35,  8],\n",
       "       [31, 27, 26, 47, 38]])"
      ]
     },
     "execution_count": 55,
     "metadata": {},
     "output_type": "execute_result"
    }
   ],
   "source": [
    "#Return random integers from low (inclusive) to high (exclusive).\n",
    "\n",
    "#randint(low, high=None, size=None, dtype=int)\n",
    "np.random.randint(2,50,10).reshape(2,5)                "
   ]
  },
  {
   "cell_type": "markdown",
   "id": "83db8eb6",
   "metadata": {},
   "source": [
    "## <font color= brown>Some Basic Calculation <font/>"
   ]
  },
  {
   "cell_type": "code",
   "execution_count": 56,
   "id": "2d3edccd",
   "metadata": {},
   "outputs": [
    {
     "data": {
      "text/plain": [
       "array([[1, 2, 3],\n",
       "       [4, 2, 6]])"
      ]
     },
     "execution_count": 56,
     "metadata": {},
     "output_type": "execute_result"
    }
   ],
   "source": [
    "x=np.array([[1,2,3],[4,2,6]])\n",
    "x"
   ]
  },
  {
   "cell_type": "code",
   "execution_count": 57,
   "id": "d81272c7",
   "metadata": {},
   "outputs": [
    {
     "data": {
      "text/plain": [
       "18"
      ]
     },
     "execution_count": 57,
     "metadata": {},
     "output_type": "execute_result"
    }
   ],
   "source": [
    "x.sum()"
   ]
  },
  {
   "cell_type": "code",
   "execution_count": 58,
   "id": "294596f2",
   "metadata": {},
   "outputs": [
    {
     "data": {
      "text/plain": [
       "array([5, 4, 9])"
      ]
     },
     "execution_count": 58,
     "metadata": {},
     "output_type": "execute_result"
    }
   ],
   "source": [
    "#axis 0 -> column\n",
    "#axis 1 -> row\n",
    "x.sum(axis=0)"
   ]
  },
  {
   "cell_type": "code",
   "execution_count": 59,
   "id": "0dff74ed",
   "metadata": {},
   "outputs": [
    {
     "data": {
      "text/plain": [
       "array([ 6, 12])"
      ]
     },
     "execution_count": 59,
     "metadata": {},
     "output_type": "execute_result"
    }
   ],
   "source": [
    "x.sum(axis=1)"
   ]
  },
  {
   "cell_type": "code",
   "execution_count": 60,
   "id": "97aa08e4",
   "metadata": {},
   "outputs": [
    {
     "data": {
      "text/plain": [
       "3.0"
      ]
     },
     "execution_count": 60,
     "metadata": {},
     "output_type": "execute_result"
    }
   ],
   "source": [
    "x.mean()"
   ]
  },
  {
   "cell_type": "code",
   "execution_count": 61,
   "id": "deb63535",
   "metadata": {},
   "outputs": [
    {
     "data": {
      "text/plain": [
       "1.632993161855452"
      ]
     },
     "execution_count": 61,
     "metadata": {},
     "output_type": "execute_result"
    }
   ],
   "source": [
    "x.std()"
   ]
  },
  {
   "cell_type": "code",
   "execution_count": 62,
   "id": "7d5f49aa",
   "metadata": {},
   "outputs": [
    {
     "data": {
      "text/plain": [
       "6"
      ]
     },
     "execution_count": 62,
     "metadata": {},
     "output_type": "execute_result"
    }
   ],
   "source": [
    "x.max()"
   ]
  },
  {
   "cell_type": "code",
   "execution_count": 63,
   "id": "3c8026eb",
   "metadata": {},
   "outputs": [
    {
     "data": {
      "text/plain": [
       "1"
      ]
     },
     "execution_count": 63,
     "metadata": {},
     "output_type": "execute_result"
    }
   ],
   "source": [
    "arr.min()"
   ]
  },
  {
   "cell_type": "markdown",
   "id": "bf47113c",
   "metadata": {},
   "source": [
    "### Argmax returns the index of maximum number \n",
    "### Argmin returns the index of minimum number"
   ]
  },
  {
   "cell_type": "markdown",
   "id": "b3a5fd30",
   "metadata": {},
   "source": [
    "#### * <font color= red>Notes: if axis value is not given then numpy start index with 0<font/>"
   ]
  },
  {
   "cell_type": "code",
   "execution_count": 64,
   "id": "66891828",
   "metadata": {},
   "outputs": [
    {
     "data": {
      "text/plain": [
       "array([[ 21, 100,   3,   4],\n",
       "       [ 11,  12,  20,  13],\n",
       "       [ 56,  21,  34,  45]])"
      ]
     },
     "execution_count": 64,
     "metadata": {},
     "output_type": "execute_result"
    }
   ],
   "source": [
    "a= np.array([[21,100,3,4],[11,12,20,13],[56,21,34,45]])\n",
    "a"
   ]
  },
  {
   "cell_type": "code",
   "execution_count": 65,
   "id": "543012e3",
   "metadata": {},
   "outputs": [
    {
     "data": {
      "text/plain": [
       "1"
      ]
     },
     "execution_count": 65,
     "metadata": {},
     "output_type": "execute_result"
    }
   ],
   "source": [
    "a.argmax()#argmax is 1 becuase maximum value of index 1 is 100 so our output is 1"
   ]
  },
  {
   "cell_type": "code",
   "execution_count": 66,
   "id": "b4efbc8e",
   "metadata": {},
   "outputs": [
    {
     "data": {
      "text/plain": [
       "2"
      ]
     },
     "execution_count": 66,
     "metadata": {},
     "output_type": "execute_result"
    }
   ],
   "source": [
    "a.argmin() #argmin is 2 becuase minimum value of index 2 is 3 so our ind is 2"
   ]
  },
  {
   "cell_type": "markdown",
   "id": "1cf693b6",
   "metadata": {},
   "source": [
    "#### * axis = 0 means that the operation is performed down the columns of a 2D array (Index start with 0)"
   ]
  },
  {
   "cell_type": "code",
   "execution_count": 67,
   "id": "03057649",
   "metadata": {},
   "outputs": [
    {
     "data": {
      "text/plain": [
       "array([2, 0, 2, 2], dtype=int64)"
      ]
     },
     "execution_count": 67,
     "metadata": {},
     "output_type": "execute_result"
    }
   ],
   "source": [
    "np.argmax(a, axis= 0) #Here max no of index 2 in column 1 is 56,index 0 in column 2 is 100,index 2 in column 3 is 34 and so \n",
    "                                                        "
   ]
  },
  {
   "cell_type": "code",
   "execution_count": 68,
   "id": "cb9074a6",
   "metadata": {},
   "outputs": [
    {
     "data": {
      "text/plain": [
       "array([1, 1, 0, 0], dtype=int64)"
      ]
     },
     "execution_count": 68,
     "metadata": {},
     "output_type": "execute_result"
    }
   ],
   "source": [
    "np.argmin(a, axis= 0) #min val of index 2 in column 1 is 11 and so on"
   ]
  },
  {
   "cell_type": "markdown",
   "id": "ff7fd0bb",
   "metadata": {},
   "source": [
    "#### * axis = 1 means that the operation is performed down the rows of a 2D array (Index start with 0)"
   ]
  },
  {
   "cell_type": "code",
   "execution_count": 69,
   "id": "cbfb1794",
   "metadata": {},
   "outputs": [
    {
     "data": {
      "text/plain": [
       "array([[ 7, 14, 21, 28],\n",
       "       [ 9, 18, 27, 62],\n",
       "       [10, 50, 12, 45]])"
      ]
     },
     "execution_count": 69,
     "metadata": {},
     "output_type": "execute_result"
    }
   ],
   "source": [
    "ar= np.array([[7,14,21,28],[9,18,27,62],[10,50,12,45]])\n",
    "ar"
   ]
  },
  {
   "cell_type": "code",
   "execution_count": 70,
   "id": "278dbdb5",
   "metadata": {},
   "outputs": [
    {
     "data": {
      "text/plain": [
       "array([3, 3, 1], dtype=int64)"
      ]
     },
     "execution_count": 70,
     "metadata": {},
     "output_type": "execute_result"
    }
   ],
   "source": [
    "np.argmax(ar, axis= 1)   # 3-> 28, 3->62, 1->50"
   ]
  },
  {
   "cell_type": "code",
   "execution_count": 71,
   "id": "77b1312f",
   "metadata": {},
   "outputs": [
    {
     "data": {
      "text/plain": [
       "array([0, 0, 0], dtype=int64)"
      ]
     },
     "execution_count": 71,
     "metadata": {},
     "output_type": "execute_result"
    }
   ],
   "source": [
    "np.argmin(ar, axis= 1) "
   ]
  },
  {
   "cell_type": "code",
   "execution_count": 72,
   "id": "e682b407",
   "metadata": {},
   "outputs": [
    {
     "data": {
      "text/plain": [
       "False"
      ]
     },
     "execution_count": 72,
     "metadata": {},
     "output_type": "execute_result"
    }
   ],
   "source": [
    "#Logical operation\n",
    "np.all([False,True,True,True])\n"
   ]
  },
  {
   "cell_type": "code",
   "execution_count": 76,
   "id": "e190b529",
   "metadata": {},
   "outputs": [
    {
     "data": {
      "text/plain": [
       "False"
      ]
     },
     "execution_count": 76,
     "metadata": {},
     "output_type": "execute_result"
    }
   ],
   "source": [
    "a = np.zeros((1000,1000))\n",
    "np.any(a!=0)"
   ]
  },
  {
   "cell_type": "code",
   "execution_count": 80,
   "id": "3621df93",
   "metadata": {},
   "outputs": [
    {
     "data": {
      "text/plain": [
       "True"
      ]
     },
     "execution_count": 80,
     "metadata": {},
     "output_type": "execute_result"
    }
   ],
   "source": [
    "np.all(a==0)"
   ]
  },
  {
   "cell_type": "code",
   "execution_count": 74,
   "id": "5a4e1a88",
   "metadata": {},
   "outputs": [
    {
     "data": {
      "text/plain": [
       "True"
      ]
     },
     "execution_count": 74,
     "metadata": {},
     "output_type": "execute_result"
    }
   ],
   "source": [
    "np.any([True,False,False,True])"
   ]
  },
  {
   "cell_type": "code",
   "execution_count": null,
   "id": "59dcab95",
   "metadata": {},
   "outputs": [],
   "source": []
  },
  {
   "cell_type": "code",
   "execution_count": null,
   "id": "ec7014a7",
   "metadata": {},
   "outputs": [],
   "source": []
  }
 ],
 "metadata": {
  "kernelspec": {
   "display_name": "Python 3",
   "language": "python",
   "name": "python3"
  },
  "language_info": {
   "codemirror_mode": {
    "name": "ipython",
    "version": 3
   },
   "file_extension": ".py",
   "mimetype": "text/x-python",
   "name": "python",
   "nbconvert_exporter": "python",
   "pygments_lexer": "ipython3",
   "version": "3.8.8"
  },
  "latex_envs": {
   "LaTeX_envs_menu_present": true,
   "autoclose": false,
   "autocomplete": true,
   "bibliofile": "biblio.bib",
   "cite_by": "apalike",
   "current_citInitial": 1,
   "eqLabelWithNumbers": true,
   "eqNumInitial": 1,
   "hotkeys": {
    "equation": "Ctrl-E",
    "itemize": "Ctrl-I"
   },
   "labels_anchors": false,
   "latex_user_defs": false,
   "report_style_numbering": false,
   "user_envs_cfg": false
  }
 },
 "nbformat": 4,
 "nbformat_minor": 5
}
