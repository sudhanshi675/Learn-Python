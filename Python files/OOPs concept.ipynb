{
 "cells": [
  {
   "cell_type": "markdown",
   "id": "2e0db172",
   "metadata": {},
   "source": [
    "# OOPs Concept\n",
    "### <font color = red> By Sudhanshi <font/>"
   ]
  },
  {
   "cell_type": "code",
   "execution_count": 1,
   "id": "5be422b5",
   "metadata": {},
   "outputs": [],
   "source": [
    "class Square():         #Square is a name of the class\n",
    "    def __init__(self): #Defining constructor\n",
    "        self.length = 24\n",
    "        self.breadth = 24"
   ]
  },
  {
   "cell_type": "markdown",
   "id": "44e9fb51",
   "metadata": {},
   "source": [
    "#### Note 1: If we want to call out the instance variable which is under the class then we have to create the instance"
   ]
  },
  {
   "cell_type": "code",
   "execution_count": 2,
   "id": "c16ff4b1",
   "metadata": {},
   "outputs": [
    {
     "data": {
      "text/plain": [
       "24"
      ]
     },
     "execution_count": 2,
     "metadata": {},
     "output_type": "execute_result"
    }
   ],
   "source": [
    "sq = Square() #Here I m creating a class instance or instanting a class\n",
    "sq.length  # Here I am calling the instance variable"
   ]
  },
  {
   "cell_type": "code",
   "execution_count": 4,
   "id": "9f4f6df6",
   "metadata": {},
   "outputs": [
    {
     "name": "stdout",
     "output_type": "stream",
     "text": [
      "Length =  24 \n",
      "Breadth =  24\n"
     ]
    }
   ],
   "source": [
    "sq = Square ()\n",
    "print(\"Length = \",sq.length , \"\\nBreadth = \",sq.breadth)"
   ]
  },
  {
   "cell_type": "markdown",
   "id": "9a5c4363",
   "metadata": {},
   "source": [
    "#### Note 2: If you define the parameters then rectangle() won't work until you didn't give the arguments"
   ]
  },
  {
   "cell_type": "code",
   "execution_count": 5,
   "id": "69133923",
   "metadata": {},
   "outputs": [],
   "source": [
    "class Rectangle():\n",
    "    def __init__(self,length,breadth):\n",
    "        self.length = length\n",
    "        self.breadth = breadth"
   ]
  },
  {
   "cell_type": "code",
   "execution_count": 6,
   "id": "2581f887",
   "metadata": {},
   "outputs": [
    {
     "ename": "TypeError",
     "evalue": "__init__() missing 2 required positional arguments: 'length' and 'breadth'",
     "output_type": "error",
     "traceback": [
      "\u001b[1;31m---------------------------------------------------------------------------\u001b[0m",
      "\u001b[1;31mTypeError\u001b[0m                                 Traceback (most recent call last)",
      "\u001b[1;32m<ipython-input-6-279e450803e5>\u001b[0m in \u001b[0;36m<module>\u001b[1;34m\u001b[0m\n\u001b[1;32m----> 1\u001b[1;33m \u001b[0mrect\u001b[0m \u001b[1;33m=\u001b[0m \u001b[0mRectangle\u001b[0m\u001b[1;33m(\u001b[0m\u001b[1;33m)\u001b[0m\u001b[1;33m\u001b[0m\u001b[1;33m\u001b[0m\u001b[0m\n\u001b[0m\u001b[0;32m      2\u001b[0m \u001b[0mrect\u001b[0m\u001b[1;33m.\u001b[0m\u001b[0mlength\u001b[0m\u001b[1;33m\u001b[0m\u001b[1;33m\u001b[0m\u001b[0m\n",
      "\u001b[1;31mTypeError\u001b[0m: __init__() missing 2 required positional arguments: 'length' and 'breadth'"
     ]
    }
   ],
   "source": [
    "rect = Rectangle() \n",
    "rect.length        "
   ]
  },
  {
   "cell_type": "code",
   "execution_count": 7,
   "id": "85f60bdb",
   "metadata": {},
   "outputs": [
    {
     "name": "stdout",
     "output_type": "stream",
     "text": [
      "Length =  30 \n",
      "breadth =  24\n"
     ]
    }
   ],
   "source": [
    "rect= Rectangle(30,24)  \n",
    "print(\"Length = \",rect.length, \"\\nbreadth = \",rect.breadth)"
   ]
  },
  {
   "cell_type": "markdown",
   "id": "70bb62e7",
   "metadata": {},
   "source": [
    "#### Note 3: Parameters and variables order should be same"
   ]
  },
  {
   "cell_type": "code",
   "execution_count": 8,
   "id": "75f98718",
   "metadata": {},
   "outputs": [
    {
     "name": "stdout",
     "output_type": "stream",
     "text": [
      "42\n"
     ]
    }
   ],
   "source": [
    "class employees():           #Here i create a class called employees\n",
    "    def __init__(self,Name,Age,Salary,Department,Gender,Experience):\n",
    "        self.Name =Name\n",
    "        self.Age =Age\n",
    "        self.Salary =Salary\n",
    "        self.Department =Department\n",
    "        self.Gender= Gender\n",
    "        self.Experience = Experience\n",
    "\n",
    "Emp_001 = employees('Sudhanshi','Female','IT','8 Years',42,520000)\n",
    "Emp_002 = employees('Nivetha','Female','Marketing','5 Years',32,20000)\n",
    "Emp_003 = employees('Akash','Male','IT','9 Years',44,580000)\n",
    "\n",
    "print(Emp_001.Gender)"
   ]
  },
  {
   "cell_type": "markdown",
   "id": "06e2e8be",
   "metadata": {},
   "source": [
    "#### Note 4: We can simply change the class variable by assigning a new value"
   ]
  },
  {
   "cell_type": "code",
   "execution_count": 9,
   "id": "f1661b22",
   "metadata": {},
   "outputs": [],
   "source": [
    "class circle():\n",
    "    pie = 3.14\n",
    "    def __init__(self,radius):\n",
    "        self.radius = radius\n",
    "        "
   ]
  },
  {
   "cell_type": "code",
   "execution_count": 10,
   "id": "16d742d9",
   "metadata": {},
   "outputs": [
    {
     "name": "stdout",
     "output_type": "stream",
     "text": [
      "Radius = 8 \t pi = 3.14\n"
     ]
    }
   ],
   "source": [
    "circle_1= circle(8)\n",
    "print(\"Radius = {} \\t pi = {}\".format(circle_1.radius,circle_1.pie))"
   ]
  },
  {
   "cell_type": "code",
   "execution_count": 11,
   "id": "95db7d39",
   "metadata": {},
   "outputs": [
    {
     "data": {
      "text/plain": [
       "3.14"
      ]
     },
     "execution_count": 11,
     "metadata": {},
     "output_type": "execute_result"
    }
   ],
   "source": [
    "circle_1= circle(8)\n",
    "circle_1.pie"
   ]
  },
  {
   "cell_type": "code",
   "execution_count": 12,
   "id": "46b60115",
   "metadata": {},
   "outputs": [
    {
     "data": {
      "text/plain": [
       "3.1436"
      ]
     },
     "execution_count": 12,
     "metadata": {},
     "output_type": "execute_result"
    }
   ],
   "source": [
    "circle.pie = 3.1436\n",
    "circle_1= circle(8)\n",
    "circle_1.pie"
   ]
  },
  {
   "cell_type": "markdown",
   "id": "6419d0d6",
   "metadata": {},
   "source": [
    "### <font color = green> Methods in OOPs <font/>"
   ]
  },
  {
   "cell_type": "code",
   "execution_count": 13,
   "id": "e792bb82",
   "metadata": {},
   "outputs": [],
   "source": [
    "#Define a class addition\n",
    "class addition:\n",
    "    \n",
    "    #define a constructor\n",
    "    def __init__ (self,num1,num2):\n",
    "        self.num1 = num1\n",
    "        self.num2 =num2\n",
    "        \n",
    "        # define add() instance method\n",
    "    def add(self):\n",
    "        return self.num1 + self.num2    "
   ]
  },
  {
   "cell_type": "code",
   "execution_count": 14,
   "id": "7644f1a7",
   "metadata": {},
   "outputs": [
    {
     "name": "stdout",
     "output_type": "stream",
     "text": [
      "Sum =  180\n"
     ]
    }
   ],
   "source": [
    "# create an instance that is object of class Addition\n",
    "obj1 = addition(160, 20)\n",
    "\n",
    "# call add method with obj1 object\n",
    "sum = obj1.add()\n",
    "print(\"Sum = \", sum)"
   ]
  },
  {
   "cell_type": "code",
   "execution_count": 18,
   "id": "daf096a9",
   "metadata": {},
   "outputs": [],
   "source": [
    "class rectangle():\n",
    "    def __init__ (self,length,breadth):\n",
    "        self.length = length\n",
    "        self.breadth = breadth\n",
    "        \n",
    "    #Area of a rectangle\n",
    "    def multiplication(self):\n",
    "        return self.length*self.breadth"
   ]
  },
  {
   "cell_type": "code",
   "execution_count": 19,
   "id": "07be2b95",
   "metadata": {},
   "outputs": [
    {
     "name": "stdout",
     "output_type": "stream",
     "text": [
      "Area =  32000\n"
     ]
    }
   ],
   "source": [
    "Area = rectangle (200,160)\n",
    "multiply = Area.multiplication()\n",
    "print(\"Area = \",multiply)"
   ]
  },
  {
   "cell_type": "code",
   "execution_count": null,
   "id": "66945246",
   "metadata": {},
   "outputs": [],
   "source": []
  },
  {
   "cell_type": "code",
   "execution_count": null,
   "id": "6db2fc7d",
   "metadata": {},
   "outputs": [],
   "source": []
  },
  {
   "cell_type": "code",
   "execution_count": null,
   "id": "19c886a3",
   "metadata": {},
   "outputs": [],
   "source": []
  }
 ],
 "metadata": {
  "kernelspec": {
   "display_name": "Python 3",
   "language": "python",
   "name": "python3"
  },
  "language_info": {
   "codemirror_mode": {
    "name": "ipython",
    "version": 3
   },
   "file_extension": ".py",
   "mimetype": "text/x-python",
   "name": "python",
   "nbconvert_exporter": "python",
   "pygments_lexer": "ipython3",
   "version": "3.8.8"
  }
 },
 "nbformat": 4,
 "nbformat_minor": 5
}
