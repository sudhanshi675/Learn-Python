{
 "cells": [
  {
   "cell_type": "markdown",
   "id": "a2695d91",
   "metadata": {},
   "source": [
    "# <font color = red> Single Inheritence In Python<font/>\n",
    "##    <font color = blue>By Sudhanshi<font/>\n",
    "    "
   ]
  },
  {
   "cell_type": "markdown",
   "id": "9cd78053",
   "metadata": {},
   "source": [
    " #### * Inheritence is one of the most importance concept in oops(object-oriented Programming)\n",
    "    \n",
    "#### * When a class inherits another class then it's called single inheritance. \n",
    "    \n",
    "#### *The most important advantage of inheritance is reusability of code. "
   ]
  },
  {
   "attachments": {
    "single%20inheritence.jpg": {
     "image/jpeg": "[encoded data removed]"
    }
   },
   "cell_type": "markdown",
   "id": "196fabab",
   "metadata": {},
   "source": [
    "![single%20inheritence.jpg](attachment:single%20inheritence.jpg)"
   ]
  },
  {
   "cell_type": "code",
   "execution_count": 1,
   "id": "19ee895b",
   "metadata": {},
   "outputs": [],
   "source": [
    "class Parent:  #Parent class or base class\n",
    "    def funct1(self):\n",
    "        print(\"This function is in Parent class\")\n",
    "        \n",
    "class Child(Parent):   #Drive class or child class\n",
    "    def funct2(self):\n",
    "        print(\"This function is in Child class\")"
   ]
  },
  {
   "cell_type": "code",
   "execution_count": 2,
   "id": "82a1482f",
   "metadata": {},
   "outputs": [
    {
     "name": "stdout",
     "output_type": "stream",
     "text": [
      "This function is in Parent class\n"
     ]
    }
   ],
   "source": [
    "object=Child()\n",
    "object.funct1()"
   ]
  },
  {
   "cell_type": "code",
   "execution_count": 3,
   "id": "fd2235e9",
   "metadata": {},
   "outputs": [
    {
     "name": "stdout",
     "output_type": "stream",
     "text": [
      "This function is in Child class\n"
     ]
    }
   ],
   "source": [
    "object.funct2()"
   ]
  },
  {
   "cell_type": "markdown",
   "id": "d522b0e2",
   "metadata": {},
   "source": [
    "### <font color = brown>In the example given below, Persondetails class inherits the Student class, so there is the single inheritance.<font/>"
   ]
  },
  {
   "cell_type": "code",
   "execution_count": 25,
   "id": "31444597",
   "metadata": {},
   "outputs": [],
   "source": [
    "class Student:\n",
    "    def Student(self,ID):\n",
    "        self.ID = ID\n",
    "        \n",
    "class Persondetails(Student):\n",
    "    def Persondetails(self,name,Class,Language):\n",
    "        self.name= name\n",
    "        self.Class = Class\n",
    "        self.Language = Language\n",
    "        \n",
    "    def display(self):\n",
    "        print('ID :',self.ID, '\\nNAME :',self.name, '\\nClass : ',self.Class,'\\nLANGUAGE: ',self.Language)\n",
    "        \n",
    "        \n",
    "s1 = Persondetails()\n",
    "\n",
    "s1.Student(101)\n",
    "s1.Persondetails('Rohit','Vth','Marathi')"
   ]
  },
  {
   "cell_type": "code",
   "execution_count": 26,
   "id": "ad50e4e2",
   "metadata": {},
   "outputs": [
    {
     "name": "stdout",
     "output_type": "stream",
     "text": [
      "ID : 101 \n",
      "NAME : Rohit \n",
      "Class :  Vth \n",
      "LANGUAGE:  Marathi\n"
     ]
    }
   ],
   "source": [
    "s1.display()"
   ]
  },
  {
   "cell_type": "markdown",
   "id": "4d8229e4",
   "metadata": {},
   "source": [
    "### Note 1: The number of argunments in parameters should be same or else u will get an error"
   ]
  },
  {
   "cell_type": "code",
   "execution_count": 8,
   "id": "877882e9",
   "metadata": {},
   "outputs": [],
   "source": [
    "class Employee:\n",
    "    def __init__(self,id,name,salary,role,skills):\n",
    "        self.id=id\n",
    "        self.name=name\n",
    "        self.salary=salary\n",
    "        self.role= role\n",
    "        self.skills = skills\n",
    "    def empdetails(self):\n",
    "        return ('Employee id:',self.id,\n",
    "              'Name:',self.name,\n",
    "              'Salary:',self.salary,\n",
    "              'Role:',self.role)\n",
    "        \n",
    "        \n",
    "class Programmer(Employee):    \n",
    "    def printprog(self):\n",
    "        return('Employee id:' ,self.id,\n",
    "              'Name:',self.name,\n",
    "              'Salary:',self.salary,\n",
    "              'Role:',self.role,\n",
    "              'Skills:',self.skills)"
   ]
  },
  {
   "cell_type": "code",
   "execution_count": 10,
   "id": "9fcc69ac",
   "metadata": {},
   "outputs": [
    {
     "ename": "TypeError",
     "evalue": "__init__() missing 1 required positional argument: 'skills'",
     "output_type": "error",
     "traceback": [
      "\u001b[1;31m---------------------------------------------------------------------------\u001b[0m",
      "\u001b[1;31mTypeError\u001b[0m                                 Traceback (most recent call last)",
      "\u001b[1;32m<ipython-input-10-39420286ef2c>\u001b[0m in \u001b[0;36m<module>\u001b[1;34m\u001b[0m\n\u001b[1;32m----> 1\u001b[1;33m \u001b[0mTom\u001b[0m\u001b[1;33m=\u001b[0m\u001b[0mEmployee\u001b[0m\u001b[1;33m(\u001b[0m\u001b[1;36m11101\u001b[0m\u001b[1;33m,\u001b[0m\u001b[1;34m\"Tom\"\u001b[0m\u001b[1;33m,\u001b[0m\u001b[1;36m25000\u001b[0m\u001b[1;33m,\u001b[0m\u001b[1;34m'Marketing'\u001b[0m\u001b[1;33m)\u001b[0m\u001b[1;33m\u001b[0m\u001b[1;33m\u001b[0m\u001b[0m\n\u001b[0m\u001b[0;32m      2\u001b[0m \u001b[0mDick\u001b[0m\u001b[1;33m=\u001b[0m\u001b[0mEmployee\u001b[0m\u001b[1;33m(\u001b[0m\u001b[1;36m11102\u001b[0m\u001b[1;33m,\u001b[0m\u001b[1;34m'Dick'\u001b[0m\u001b[1;33m,\u001b[0m\u001b[1;36m52000\u001b[0m\u001b[1;33m,\u001b[0m\u001b[1;34m'IT'\u001b[0m\u001b[1;33m)\u001b[0m\u001b[1;33m\u001b[0m\u001b[1;33m\u001b[0m\u001b[0m\n\u001b[0;32m      3\u001b[0m \u001b[0mHarry\u001b[0m\u001b[1;33m=\u001b[0m\u001b[0mEmployee\u001b[0m\u001b[1;33m(\u001b[0m\u001b[1;36m11103\u001b[0m\u001b[1;33m,\u001b[0m\u001b[1;34m'Harry'\u001b[0m\u001b[1;33m,\u001b[0m\u001b[1;36m59000\u001b[0m\u001b[1;33m,\u001b[0m\u001b[1;34m'IT'\u001b[0m\u001b[1;33m)\u001b[0m\u001b[1;33m\u001b[0m\u001b[1;33m\u001b[0m\u001b[0m\n\u001b[0;32m      4\u001b[0m \u001b[1;33m\u001b[0m\u001b[0m\n\u001b[0;32m      5\u001b[0m \u001b[0mkarthik\u001b[0m\u001b[1;33m=\u001b[0m\u001b[0mProgrammer\u001b[0m\u001b[1;33m(\u001b[0m\u001b[1;36m11104\u001b[0m\u001b[1;33m,\u001b[0m\u001b[1;34m'Karthik'\u001b[0m\u001b[1;33m,\u001b[0m\u001b[1;36m36550\u001b[0m\u001b[1;33m,\u001b[0m\u001b[1;34m'Programmer'\u001b[0m\u001b[1;33m,\u001b[0m\u001b[1;34m\"Python\"\u001b[0m\u001b[1;33m)\u001b[0m\u001b[1;33m\u001b[0m\u001b[1;33m\u001b[0m\u001b[0m\n",
      "\u001b[1;31mTypeError\u001b[0m: __init__() missing 1 required positional argument: 'skills'"
     ]
    }
   ],
   "source": [
    "Tom=Employee(11101,\"Tom\",25000,'Marketing')\n",
    "Dick=Employee(11102,'Dick',52000,'IT')\n",
    "Harry=Employee(11103,'Harry',59000,'IT')\n",
    "\n",
    "karthik=Programmer(11104,'Karthik',36550,'Programmer',\"Python\")\n",
    "Sanjana=Programmer(11105,'Sanjana',48000,'Programmer','Java')\n",
    "Newton=Programmer(11106,'Newton',56000,'Programmer','C++')\n"
   ]
  },
  {
   "cell_type": "markdown",
   "id": "3714f626",
   "metadata": {},
   "source": [
    "#### NOTE 2: If we want to retrieve those data-set which is present in child inheritence class then we have to comment parent class skills"
   ]
  },
  {
   "cell_type": "code",
   "execution_count": 13,
   "id": "ac40d2fe",
   "metadata": {},
   "outputs": [],
   "source": [
    "class Employee:\n",
    "    def __init__(self,id,name,salary,role,skills):\n",
    "        self.id=id\n",
    "        self.name=name\n",
    "        self.salary=salary\n",
    "        self.role= role\n",
    "        self.skills = skills\n",
    "    def empdetails(self):\n",
    "        return ('Employee id:',self.id,\n",
    "              'Name:',self.name,\n",
    "              'Salary:',self.salary,\n",
    "              'Role:',self.role)\n",
    "              #'Skills:',self.skills)\n",
    "        \n",
    "        \n",
    "class Language(Employee):    \n",
    "    def printlang(self):\n",
    "        return('Employee id:' ,self.id,\n",
    "              'Name:',self.name,\n",
    "              'Salary:',self.salary,\n",
    "              'Role:',self.role,\n",
    "              'Skills:',self.skills)"
   ]
  },
  {
   "cell_type": "code",
   "execution_count": 16,
   "id": "4a2d80a4",
   "metadata": {},
   "outputs": [],
   "source": [
    "Tom=Employee(11101,\"Tom\",25000,'Marketing','Digital Marketing')\n",
    "Dick=Employee(11102,'Dick',52000,'IT','SQL')\n",
    "Harry=Employee(11103,'Harry',59000,'IT','Tableau')\n",
    "\n",
    "karthik=Language(11104,'Karthik',36550,'Programmer',\"Deutsch\")\n",
    "Sanjana=Language(11105,'Sanjana',48000,'Programmer','French')\n",
    "Newton=Language(11106,'Newton',56000,'Programmer','Spansih')"
   ]
  },
  {
   "cell_type": "code",
   "execution_count": 17,
   "id": "d3429344",
   "metadata": {},
   "outputs": [
    {
     "name": "stdout",
     "output_type": "stream",
     "text": [
      "('Employee id:', 11104, 'Name:', 'Karthik', 'Salary:', 36550, 'Role:', 'Programmer', 'Skills:', 'Deutsch')\n"
     ]
    }
   ],
   "source": [
    "print(karthik.printlang())"
   ]
  },
  {
   "cell_type": "code",
   "execution_count": 18,
   "id": "78bfcf1a",
   "metadata": {},
   "outputs": [
    {
     "name": "stdout",
     "output_type": "stream",
     "text": [
      "('Employee id:', 11102, 'Name:', 'Dick', 'Salary:', 52000, 'Role:', 'IT')\n"
     ]
    }
   ],
   "source": [
    "print(Dick.empdetails())"
   ]
  },
  {
   "cell_type": "code",
   "execution_count": 19,
   "id": "b1071a35",
   "metadata": {},
   "outputs": [
    {
     "name": "stdout",
     "output_type": "stream",
     "text": [
      "Student Details :Roll no : 101\n",
      "Name : Adwait\n",
      "Age : 15\n",
      "Percentage : 89.5\n"
     ]
    }
   ],
   "source": [
    "class Person:\n",
    "    def __init__ (self,name,age):\n",
    "        self.name=name\n",
    "        self.age=age\n",
    "    def display(self):\n",
    "        print('Name :',self.name)\n",
    "        print('Age :',self.age)\n",
    "        \n",
    "class Student(Person):\n",
    "    def __init__(self,rollno,name,age,per):\n",
    "        self.rollno=rollno\n",
    "        Person.__init__(self,name,age)\n",
    "        self.per=per\n",
    "    def display(self):\n",
    "        print('Roll no :',self.rollno)\n",
    "        Person.display(self)\n",
    "        print('Percentage :',self.per)\n",
    "        \n",
    "S1= Student(101,\"Adwait\",15,89.50)\n",
    "print('Student Details :',end='')\n",
    "S1.display()"
   ]
  },
  {
   "cell_type": "code",
   "execution_count": 20,
   "id": "9cb424b3",
   "metadata": {},
   "outputs": [],
   "source": [
    "class Employee:\n",
    "    def Empdetails(self,id,name,salary,department):\n",
    "        self.id=id\n",
    "        self.name=name\n",
    "        self.salary=salary\n",
    "        self.department=department\n",
    "        \n",
    "class Programmer(Employee):\n",
    "    def skill(self,skills):\n",
    "        self.skills=skills\n",
    "        \n",
    "    def display(self):\n",
    "        print( 'Employee id is:',self.id,'\\nEmployee name is :',self.name,'\\nSalary is :',self.salary,'\\nDepartment is:',self.department,'\\nSkills :',self.skills)"
   ]
  },
  {
   "cell_type": "code",
   "execution_count": 21,
   "id": "e425b35a",
   "metadata": {},
   "outputs": [
    {
     "name": "stdout",
     "output_type": "stream",
     "text": [
      "Employee id is: 101 \n",
      "Employee name is : Tom \n",
      "Salary is : 45000 \n",
      "Department is: IT \n",
      "Skills : Python\n"
     ]
    }
   ],
   "source": [
    "Details = Programmer()\n",
    "\n",
    "Details.Empdetails(101,'Tom',45000,'IT')\n",
    "Details.skill('Python')\n",
    "Details.display()"
   ]
  },
  {
   "cell_type": "code",
   "execution_count": 22,
   "id": "76d05767",
   "metadata": {},
   "outputs": [],
   "source": [
    "class Addition:\n",
    "    num1= 200\n",
    "    num2= 300\n",
    "    def add(self):\n",
    "        sum=self.num1+self.num2\n",
    "        print(\"Addition of num1 and num2 is:\",sum)\n",
    "        \n",
    "class Myclass(Addition):\n",
    "    num3 = 5\n",
    "    def multiply(self):\n",
    "        multiply = self.num1+self.num2 * self.num3\n",
    "        print(\"Output is:\",multiply)"
   ]
  },
  {
   "cell_type": "code",
   "execution_count": 23,
   "id": "a837e251",
   "metadata": {},
   "outputs": [
    {
     "name": "stdout",
     "output_type": "stream",
     "text": [
      "Addition of num1 and num2 is: 500\n"
     ]
    }
   ],
   "source": [
    "operation= Myclass()\n",
    "operation.add()"
   ]
  },
  {
   "cell_type": "code",
   "execution_count": 24,
   "id": "e23358c6",
   "metadata": {},
   "outputs": [
    {
     "name": "stdout",
     "output_type": "stream",
     "text": [
      "Output is: 1700\n"
     ]
    }
   ],
   "source": [
    "operation.multiply()  # 200+300*5\n",
    "                      # 200+1500\n",
    "                      #1700"
   ]
  },
  {
   "cell_type": "code",
   "execution_count": null,
   "id": "ab11f0b7",
   "metadata": {},
   "outputs": [],
   "source": []
  }
 ],
 "metadata": {
  "kernelspec": {
   "display_name": "Python 3",
   "language": "python",
   "name": "python3"
  },
  "language_info": {
   "codemirror_mode": {
    "name": "ipython",
    "version": 3
   },
   "file_extension": ".py",
   "mimetype": "text/x-python",
   "name": "python",
   "nbconvert_exporter": "python",
   "pygments_lexer": "ipython3",
   "version": "3.8.8"
  }
 },
 "nbformat": 4,
 "nbformat_minor": 5
}
