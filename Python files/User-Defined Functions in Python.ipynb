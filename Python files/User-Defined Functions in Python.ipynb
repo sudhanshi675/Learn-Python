{
 "cells": [
  {
   "cell_type": "markdown",
   "id": "37bda8db",
   "metadata": {},
   "source": [
    "# <font color = orange> User-Defined Functions <font/>\n",
    "    \n",
    "####    1) Keyword def is used to start the Function Definition. Def specifies the starting of Function block.\n",
    "####    2) def is followed by function-name followed by parenthesis. \n",
    "####    3) Parameters are passed inside the parenthesis. At the end a colon is marked."
   ]
  },
  {
   "cell_type": "code",
   "execution_count": 1,
   "id": "5a44c713",
   "metadata": {},
   "outputs": [],
   "source": [
    "def greet():\n",
    "    print(\"Good morning\")\n",
    "    print(\"Guten Morgen\")\n",
    "    print(\"Shubh prabhat\")"
   ]
  },
  {
   "cell_type": "code",
   "execution_count": 2,
   "id": "84beeac1",
   "metadata": {},
   "outputs": [
    {
     "name": "stdout",
     "output_type": "stream",
     "text": [
      "Good morning\n",
      "Guten Morgen\n",
      "Shubh prabhat\n"
     ]
    }
   ],
   "source": [
    "greet()"
   ]
  },
  {
   "cell_type": "markdown",
   "id": "2827670d",
   "metadata": {},
   "source": [
    "### <font color = blue> Call a function in python\n"
   ]
  },
  {
   "cell_type": "code",
   "execution_count": 3,
   "id": "f39f3290",
   "metadata": {},
   "outputs": [],
   "source": [
    "def greet (name):\n",
    "    print('Hello',name)\n",
    "    print('How are you?')"
   ]
  },
  {
   "cell_type": "code",
   "execution_count": 4,
   "id": "609cc93b",
   "metadata": {},
   "outputs": [
    {
     "name": "stdout",
     "output_type": "stream",
     "text": [
      "Hello Neha\n",
      "How are you?\n"
     ]
    }
   ],
   "source": [
    "greet(\"Neha\")"
   ]
  },
  {
   "cell_type": "markdown",
   "id": "d3ae82fd",
   "metadata": {},
   "source": [
    "### <font color = blue> Example of return statement<font/>\n",
    "\n",
    "####     1)return[expression] is used to send back the control to the caller with the expression.\n",
    "####     2)In case no expression is given after return it will return None. \n",
    "####     3)In other words return statement is used to exit the Function definition. "
   ]
  },
  {
   "cell_type": "code",
   "execution_count": 5,
   "id": "1ddff487",
   "metadata": {},
   "outputs": [],
   "source": [
    "def greet (name):\n",
    "    print('Hello',name)\n",
    "    return\n",
    "    print('How are you?')"
   ]
  },
  {
   "cell_type": "code",
   "execution_count": 6,
   "id": "e7cd35b4",
   "metadata": {},
   "outputs": [
    {
     "name": "stdout",
     "output_type": "stream",
     "text": [
      "Hello Rahul\n"
     ]
    }
   ],
   "source": [
    "greet(\"Rahul\")"
   ]
  },
  {
   "cell_type": "code",
   "execution_count": 7,
   "id": "ece0cf69",
   "metadata": {},
   "outputs": [],
   "source": [
    "import builtins\n",
    "marks=[92,89,85,81,72,63,68,59,61,55,60]"
   ]
  },
  {
   "cell_type": "markdown",
   "id": "3196b07c",
   "metadata": {},
   "source": [
    "### <font color = blue> Find out average marks and grades<font/>"
   ]
  },
  {
   "cell_type": "code",
   "execution_count": 8,
   "id": "cb726c75",
   "metadata": {},
   "outputs": [],
   "source": [
    "import builtins\n",
    "marks=[92,89,85,81,72,63,68,59,61,55,60]"
   ]
  },
  {
   "cell_type": "code",
   "execution_count": 9,
   "id": "db9dbdd6",
   "metadata": {},
   "outputs": [
    {
     "data": {
      "text/plain": [
       "11"
      ]
     },
     "execution_count": 9,
     "metadata": {},
     "output_type": "execute_result"
    }
   ],
   "source": [
    "len(marks)"
   ]
  },
  {
   "cell_type": "code",
   "execution_count": 10,
   "id": "2830cbf9",
   "metadata": {},
   "outputs": [
    {
     "data": {
      "text/plain": [
       "785"
      ]
     },
     "execution_count": 10,
     "metadata": {},
     "output_type": "execute_result"
    }
   ],
   "source": [
    "builtins.sum(marks) "
   ]
  },
  {
   "cell_type": "code",
   "execution_count": 11,
   "id": "3e64ccfe",
   "metadata": {},
   "outputs": [],
   "source": [
    "total=builtins.sum(marks) "
   ]
  },
  {
   "cell_type": "code",
   "execution_count": 12,
   "id": "cff0fcc5",
   "metadata": {},
   "outputs": [],
   "source": [
    "average_marks=total/len(marks)"
   ]
  },
  {
   "cell_type": "code",
   "execution_count": 13,
   "id": "67381e6c",
   "metadata": {},
   "outputs": [
    {
     "data": {
      "text/plain": [
       "71.36363636363636"
      ]
     },
     "execution_count": 13,
     "metadata": {},
     "output_type": "execute_result"
    }
   ],
   "source": [
    "average_marks"
   ]
  },
  {
   "cell_type": "code",
   "execution_count": 14,
   "id": "26548b7e",
   "metadata": {},
   "outputs": [],
   "source": [
    "def compute_grade(average_marks):\n",
    "    if average_marks >= 80.0:\n",
    "        grade = 'A'\n",
    "    elif average_marks >= 60:\n",
    "        grade = 'B'\n",
    "    elif average_marks >= 50:\n",
    "        grade = 'C'\n",
    "    else:\n",
    "        grade = 'D'\n",
    "    \n",
    "    return grade"
   ]
  },
  {
   "cell_type": "code",
   "execution_count": 15,
   "id": "e02a2a1b",
   "metadata": {},
   "outputs": [
    {
     "name": "stdout",
     "output_type": "stream",
     "text": [
      "Your average marks is 71.36363636363636\n",
      "Your grade is B\n"
     ]
    }
   ],
   "source": [
    "grade =compute_grade(average_marks)\n",
    "\n",
    "print(\"Your average marks is\", average_marks)\n",
    "print(\"Your grade is\", grade)"
   ]
  },
  {
   "cell_type": "code",
   "execution_count": 16,
   "id": "08685d19",
   "metadata": {},
   "outputs": [
    {
     "name": "stdout",
     "output_type": "stream",
     "text": [
      "[8, 64, 512, 1000, 1728, 2744, 4096, 5832, 8000]\n"
     ]
    }
   ],
   "source": [
    "list_1=[2,4,8,10,12,14,16,18,20]\n",
    "\n",
    "def cube(n):\n",
    "    return n**3\n",
    "\n",
    "print(list(map(cube, list_1)))"
   ]
  },
  {
   "cell_type": "code",
   "execution_count": 17,
   "id": "65c5ea51",
   "metadata": {},
   "outputs": [
    {
     "name": "stdout",
     "output_type": "stream",
     "text": [
      "[9, 25, 49, 81, 144, 225, 324, 441, 529]\n"
     ]
    }
   ],
   "source": [
    "list_1=[3,5,7,9,12,15,18,21,23]\n",
    "\n",
    "def squareit(n):\n",
    "    return n**2\n",
    "\n",
    "print(list(map(squareit, list_1)))"
   ]
  },
  {
   "cell_type": "code",
   "execution_count": 18,
   "id": "d58a6eff",
   "metadata": {},
   "outputs": [
    {
     "data": {
      "text/plain": [
       "26"
      ]
     },
     "execution_count": 18,
     "metadata": {},
     "output_type": "execute_result"
    }
   ],
   "source": [
    "def sum(a,b):\n",
    "    return(a+b)\n",
    "sum(12,14)"
   ]
  },
  {
   "cell_type": "code",
   "execution_count": 19,
   "id": "cb105a7f",
   "metadata": {},
   "outputs": [],
   "source": [
    "number1=69\n",
    "number2=89"
   ]
  },
  {
   "cell_type": "code",
   "execution_count": 20,
   "id": "b40a1d69",
   "metadata": {},
   "outputs": [],
   "source": [
    "def multiply_numbers(num1, num2):\n",
    "    return num1 * num2"
   ]
  },
  {
   "cell_type": "code",
   "execution_count": 21,
   "id": "42eb4f2b",
   "metadata": {},
   "outputs": [
    {
     "name": "stdout",
     "output_type": "stream",
     "text": [
      "Product of 69 and 89 is 6141\n"
     ]
    }
   ],
   "source": [
    "product_result = multiply_numbers(number1, number2)\n",
    "print(\"Product of 69 and 89 is\", product_result)"
   ]
  },
  {
   "cell_type": "code",
   "execution_count": 22,
   "id": "d48aff01",
   "metadata": {},
   "outputs": [],
   "source": [
    "def factorial(n):\n",
    "    fact=1\n",
    "    for i in range(1,n+1):\n",
    "        fact=fact*i\n",
    "    return fact"
   ]
  },
  {
   "cell_type": "code",
   "execution_count": 23,
   "id": "e5fd16c1",
   "metadata": {},
   "outputs": [
    {
     "data": {
      "text/plain": [
       "362880"
      ]
     },
     "execution_count": 23,
     "metadata": {},
     "output_type": "execute_result"
    }
   ],
   "source": [
    "factorial(9)"
   ]
  },
  {
   "cell_type": "markdown",
   "id": "6c18b315",
   "metadata": {},
   "source": [
    "### <font color = blue> BMI calculator using a User-Defined Function <font/>"
   ]
  },
  {
   "cell_type": "code",
   "execution_count": 24,
   "id": "58ef074b",
   "metadata": {},
   "outputs": [],
   "source": [
    "name1=\"Sudhanshi\"\n",
    "height_mt1=1.6\n",
    "weight_kg1 = 60\n",
    "\n",
    "name2=\"Adwait\"\n",
    "height_mt2=1.2\n",
    "weight_kg2 = 25\n",
    "\n",
    "name3=\"Rohith\"\n",
    "height_mt3=1.8\n",
    "weight_kg3=85"
   ]
  },
  {
   "cell_type": "code",
   "execution_count": 25,
   "id": "085da93f",
   "metadata": {},
   "outputs": [],
   "source": [
    "def bmi_calculator(name,height_mt,weight_kg):\n",
    "    bmi=weight_kg/ (height_mt** 2)\n",
    "    print(\"bmi: \")\n",
    "    print(bmi)    \n",
    "    if bmi<25:\n",
    "        return name + \" is not overweight\"\n",
    "    else:\n",
    "        return name + \" is overweight\"\n",
    "        "
   ]
  },
  {
   "cell_type": "code",
   "execution_count": 26,
   "id": "4e98664d",
   "metadata": {},
   "outputs": [
    {
     "name": "stdout",
     "output_type": "stream",
     "text": [
      "bmi: \n",
      "23.437499999999996\n",
      "bmi: \n",
      "17.36111111111111\n",
      "bmi: \n",
      "26.234567901234566\n"
     ]
    }
   ],
   "source": [
    "result1 =bmi_calculator(name1,height_mt1,weight_kg1)\n",
    "result2 =bmi_calculator(name2,height_mt2,weight_kg2)\n",
    "result3 =bmi_calculator(name3,height_mt3,weight_kg3)"
   ]
  },
  {
   "cell_type": "code",
   "execution_count": 27,
   "id": "c28b1ae6",
   "metadata": {},
   "outputs": [
    {
     "name": "stdout",
     "output_type": "stream",
     "text": [
      "Sudhanshi is not overweight\n",
      "Adwait is not overweight\n",
      "Rohith is overweight\n"
     ]
    }
   ],
   "source": [
    "print(result1)\n",
    "print(result2)\n",
    "print(result3)"
   ]
  },
  {
   "cell_type": "markdown",
   "id": "4991ec0b",
   "metadata": {},
   "source": [
    "# <font color=orange> Anonymous function/ Lambda<font/>\n",
    "\n",
    "####   1)Lambda functions are single-line functions defined without a name.\n",
    "####   2)Anonymous function are created by using a keyword Lambda. \n",
    "####   3) Lambda takes any number of arguments and returns an evaluated expressesion."
   ]
  },
  {
   "cell_type": "code",
   "execution_count": 28,
   "id": "288d3b45",
   "metadata": {},
   "outputs": [],
   "source": [
    "f= lambda a,b,c,d,e: a+b-c+d*e/2"
   ]
  },
  {
   "cell_type": "code",
   "execution_count": 29,
   "id": "cc5e07ec",
   "metadata": {},
   "outputs": [
    {
     "name": "stdout",
     "output_type": "stream",
     "text": [
      "60.0\n"
     ]
    }
   ],
   "source": [
    "print(f(2,6,8,10,12))"
   ]
  },
  {
   "cell_type": "code",
   "execution_count": 30,
   "id": "a49d58dc",
   "metadata": {},
   "outputs": [],
   "source": [
    "def sum(a,b,c,d,e):\n",
    "    return (a+b-c+d*e/2)"
   ]
  },
  {
   "cell_type": "code",
   "execution_count": 31,
   "id": "9ef51bcc",
   "metadata": {},
   "outputs": [
    {
     "name": "stdout",
     "output_type": "stream",
     "text": [
      "60.0\n"
     ]
    }
   ],
   "source": [
    "print(sum(2,6,8,10,12))"
   ]
  },
  {
   "cell_type": "markdown",
   "id": "beaae3df",
   "metadata": {},
   "source": [
    "#### <font color=red>Lambda function to return the larger among two other numbers.<font/>"
   ]
  },
  {
   "cell_type": "code",
   "execution_count": 32,
   "id": "d7084e21",
   "metadata": {},
   "outputs": [
    {
     "data": {
      "text/plain": [
       "19"
      ]
     },
     "execution_count": 32,
     "metadata": {},
     "output_type": "execute_result"
    }
   ],
   "source": [
    "x= lambda a,b :a if a>b else b\n",
    "x(19,17)"
   ]
  },
  {
   "cell_type": "code",
   "execution_count": 33,
   "id": "17a54884",
   "metadata": {},
   "outputs": [
    {
     "name": "stdout",
     "output_type": "stream",
     "text": [
      "10\n"
     ]
    }
   ],
   "source": [
    "sum=lambda x:x+6\n",
    "print(sum(4))"
   ]
  },
  {
   "cell_type": "code",
   "execution_count": 34,
   "id": "70422018",
   "metadata": {},
   "outputs": [
    {
     "name": "stdout",
     "output_type": "stream",
     "text": [
      "60\n"
     ]
    }
   ],
   "source": [
    "minus=lambda x,y:x-y//2 \n",
    "print(minus(89,59))"
   ]
  },
  {
   "cell_type": "code",
   "execution_count": 35,
   "id": "68f37e49",
   "metadata": {},
   "outputs": [
    {
     "name": "stdout",
     "output_type": "stream",
     "text": [
      "9\n"
     ]
    }
   ],
   "source": [
    "square=lambda n: n*n\n",
    "numbers=square(3)\n",
    "print(numbers)"
   ]
  },
  {
   "cell_type": "markdown",
   "id": "11d95a5e",
   "metadata": {},
   "source": [
    "#### <font color = red> Sort the Students names based on the length <font/>"
   ]
  },
  {
   "cell_type": "code",
   "execution_count": 36,
   "id": "96696a4a",
   "metadata": {},
   "outputs": [
    {
     "name": "stdout",
     "output_type": "stream",
     "text": [
      "['Ali', 'Priya', 'Honey', 'Arjun', 'Rohith', 'Aradhna', 'Prashahti', 'Sudhanshi', 'Bhattacharya', 'sahastrabuddhe'] 10\n"
     ]
    }
   ],
   "source": [
    "names=[\"Priya\",\"Ali\",'Honey','Arjun','Aradhna','Prashahti','Rohith','Sudhanshi','sahastrabuddhe','Bhattacharya']\n",
    "names.sort(key=lambda names:len(names))\n",
    "print(names,len(names))"
   ]
  },
  {
   "cell_type": "markdown",
   "id": "3c63209f",
   "metadata": {},
   "source": [
    "#### <font color = red> Program to filter out only the even items from a list<font/>"
   ]
  },
  {
   "cell_type": "code",
   "execution_count": 37,
   "id": "3d955980",
   "metadata": {},
   "outputs": [
    {
     "name": "stdout",
     "output_type": "stream",
     "text": [
      "[4, 6, 8, 12, 20, 68]\n"
     ]
    }
   ],
   "source": [
    "\n",
    "my_list = [1, 5, 4, 6, 8, 11, 3, 12 ,20 ,33 ,68]\n",
    "\n",
    "new_list = list(filter(lambda x: (x%2 == 0) , my_list))\n",
    "\n",
    "print(new_list)"
   ]
  },
  {
   "cell_type": "markdown",
   "id": "86191c4d",
   "metadata": {},
   "source": [
    "#### <font color= red>Program to triple each item in a list using map()<font/>"
   ]
  },
  {
   "cell_type": "code",
   "execution_count": 38,
   "id": "97d9f2c7",
   "metadata": {},
   "outputs": [
    {
     "name": "stdout",
     "output_type": "stream",
     "text": [
      "[3, 15, 12, 18, 24, 33, 9, 36]\n"
     ]
    }
   ],
   "source": [
    "my_list = [1, 5, 4, 6, 8, 11, 3, 12]\n",
    "\n",
    "new_list = list(map(lambda x: x * 3 , my_list))\n",
    "\n",
    "print(new_list)"
   ]
  },
  {
   "cell_type": "markdown",
   "id": "09f44d61",
   "metadata": {},
   "source": [
    "#### <font color = red>Program to double each item in a list using map()<font/>"
   ]
  },
  {
   "cell_type": "code",
   "execution_count": 39,
   "id": "5b444179",
   "metadata": {},
   "outputs": [
    {
     "name": "stdout",
     "output_type": "stream",
     "text": [
      "[2, 10, 8, 12, 16, 22, 6, 24]\n"
     ]
    }
   ],
   "source": [
    "my_list = [1, 5, 4, 6, 8, 11, 3, 12]\n",
    "\n",
    "new_list = list(map(lambda x: x * 2 , my_list))\n",
    "\n",
    "print(new_list)"
   ]
  },
  {
   "cell_type": "code",
   "execution_count": null,
   "id": "1a42f9f4",
   "metadata": {},
   "outputs": [],
   "source": []
  }
 ],
 "metadata": {
  "kernelspec": {
   "display_name": "Python 3",
   "language": "python",
   "name": "python3"
  },
  "language_info": {
   "codemirror_mode": {
    "name": "ipython",
    "version": 3
   },
   "file_extension": ".py",
   "mimetype": "text/x-python",
   "name": "python",
   "nbconvert_exporter": "python",
   "pygments_lexer": "ipython3",
   "version": "3.8.8"
  }
 },
 "nbformat": 4,
 "nbformat_minor": 5
}
